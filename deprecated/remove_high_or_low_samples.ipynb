{
 "cells": [
  {
   "cell_type": "code",
   "execution_count": 1,
   "metadata": {},
   "outputs": [
    {
     "name": "stderr",
     "output_type": "stream",
     "text": [
      "/home/teddy/miniconda3/envs/dvgs/lib/python3.9/site-packages/tqdm/auto.py:22: TqdmWarning: IProgress not found. Please update jupyter and ipywidgets. See https://ipywidgets.readthedocs.io/en/stable/user_install.html\n",
      "  from .autonotebook import tqdm as notebook_tqdm\n"
     ]
    }
   ],
   "source": [
    "import pandas as pd \n",
    "import torch\n",
    "import numpy as np\n",
    "from matplotlib import pyplot as plt\n",
    "#from torchmetrics import JaccardIndex\n",
    "import seaborn as sbn\n",
    "from sklearn.metrics import roc_auc_score\n",
    "import time\n",
    "import torchvision\n",
    "import torchvision.transforms as transforms\n",
    "\n",
    "import sys \n",
    "sys.path.append('../src/')\n",
    "from data_loading import load_tabular_data, preprocess_data, corrupt_label\n",
    "from GenDataset import GenDataset\n",
    "from DVGS import DVGS\n",
    "from DVRL import DVRL\n",
    "from utils import get_corruption_scores\n",
    "from NN import NN\n",
    "from CNN import CNN\n",
    "\n",
    "%load_ext autoreload\n",
    "%autoreload 2"
   ]
  },
  {
   "cell_type": "code",
   "execution_count": null,
   "metadata": {},
   "outputs": [],
   "source": [
    "noise_idx = load_tabular_data('adult', {'train':1000, 'valid':400}, noise_rate=0.) # saves to disk\n",
    "x_train, y_train, x_valid, y_valid, x_test, y_test, col_names = preprocess_data('minmax', 'train.csv', 'valid.csv', 'test.csv')\n",
    "train_dataset = GenDataset(x_train, y_train)\n",
    "test_dataset = GenDataset(x_test, y_test)\n",
    "valid_dataset = GenDataset(x_valid, y_valid)\n",
    "\n",
    "model = NN(in_channels=108, out_channels=1, num_layers=1, hidden_channels=100, norm=False, dropout=0., bias=True, act=torch.nn.ReLU, out_fn=torch.nn.Sigmoid())\n",
    "dvgs = DVGS(train_dataset, valid_dataset, test_dataset, model)\n",
    "#dvgs.pretrain_(crit=torch.nn.BCELoss(), num_workers=1, batch_size=256, lr=1e-3, epochs=25)\n",
    "print()\n",
    "\n",
    "tic = time.time() \n",
    "vals_dvgs = dvgs.run(crit          = torch.nn.BCELoss(), \n",
    "                    similarity     = torch.nn.CosineSimilarity(dim=0), \n",
    "                    optim          = torch.optim.Adam, \n",
    "                    lr             = 1e-2, \n",
    "                    num_epochs     = 100, \n",
    "                    compute_every  = 5, \n",
    "                    batch_size     = 256, \n",
    "                    num_workers    = 1, \n",
    "                    grad_params    = None, \n",
    "                    verbose        = True, \n",
    "                    use_cuda       = False)\n",
    "print()\n",
    "print(f'time elapsed: {(time.time() - tic)/60:.2f} min')"
   ]
  }
 ],
 "metadata": {
  "kernelspec": {
   "display_name": "Python 3.9.15 ('dvgs')",
   "language": "python",
   "name": "python3"
  },
  "language_info": {
   "codemirror_mode": {
    "name": "ipython",
    "version": 3
   },
   "file_extension": ".py",
   "mimetype": "text/x-python",
   "name": "python",
   "nbconvert_exporter": "python",
   "pygments_lexer": "ipython3",
   "version": "3.9.15"
  },
  "orig_nbformat": 4,
  "vscode": {
   "interpreter": {
    "hash": "7a0c01d8e4fa1db1da0660ba3ef0ec4ab134f84670460ef20ad46a30fcd2cd9f"
   }
  }
 },
 "nbformat": 4,
 "nbformat_minor": 2
}
