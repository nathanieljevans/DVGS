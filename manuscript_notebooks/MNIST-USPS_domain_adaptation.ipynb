{
 "cells": [
  {
   "cell_type": "code",
   "execution_count": 23,
   "metadata": {},
   "outputs": [
    {
     "name": "stdout",
     "output_type": "stream",
     "text": [
      "The autoreload extension is already loaded. To reload it, use:\n",
      "  %reload_ext autoreload\n"
     ]
    }
   ],
   "source": [
    "import pandas as pd \n",
    "import torch\n",
    "import numpy as np\n",
    "from matplotlib import pyplot as plt\n",
    "#from torchmetrics import JaccardIndex\n",
    "import seaborn as sbn\n",
    "from sklearn.metrics import roc_auc_score, accuracy_score\n",
    "import time\n",
    "import torchvision\n",
    "import torchvision.transforms as transforms\n",
    "import copy \n",
    "\n",
    "import sys \n",
    "sys.path.append('../src/')\n",
    "from data_loading import load_tabular_data, preprocess_data, corrupt_label\n",
    "from GenDataset import GenDataset\n",
    "from DVGS import DVGS\n",
    "from DVRL import DVRL\n",
    "from utils import get_filtered_scores_TORCHVISION, train_model\n",
    "from NN import NN\n",
    "from CNN import CNN\n",
    "import similarities \n",
    "import DShap\n",
    "\n",
    "%load_ext autoreload\n",
    "%autoreload 2"
   ]
  },
  {
   "cell_type": "code",
   "execution_count": 16,
   "metadata": {},
   "outputs": [],
   "source": [
    "transform = transforms.Compose(\n",
    "    [transforms.ToTensor(),\n",
    "      transforms.Normalize((0.5,), (0.5,)),\n",
    "      transforms.Resize((16,16))])\n",
    "\n",
    "train_dataset = torchvision.datasets.MNIST(root='./data', train=True,\n",
    "                                        download=True, transform=transform)\n",
    "\n",
    "valid_dataset = torchvision.datasets.USPS(root='./data', train=True,\n",
    "                                       download=True, transform=transform)\n",
    "\n",
    "test_dataset = torchvision.datasets.USPS(root='./data', train=False,\n",
    "                                       download=True, transform=transform)                        "
   ]
  },
  {
   "cell_type": "code",
   "execution_count": 38,
   "metadata": {},
   "outputs": [],
   "source": [
    "test_dataset = torchvision.datasets.USPS(root='./data', train=False,\n",
    "                                       download=True, transform=transform)     "
   ]
  },
  {
   "cell_type": "code",
   "execution_count": 21,
   "metadata": {},
   "outputs": [
    {
     "name": "stdout",
     "output_type": "stream",
     "text": [
      "using device: cuda\n"
     ]
    },
    {
     "name": "stderr",
     "output_type": "stream",
     "text": [
      "/home/teddy/miniconda3/envs/dvgs/lib/python3.9/site-packages/torch/nn/modules/lazy.py:180: UserWarning: Lazy modules are a new feature under heavy development so changes to the API or functionality can happen at any moment.\n",
      "  warnings.warn('Lazy modules are a new feature under heavy development '\n"
     ]
    },
    {
     "name": "stdout",
     "output_type": "stream",
     "text": [
      "epoch: 9 | loss: 1.4696 | metric: 1.0000\n",
      "using device: cuda\n",
      "epoch 99 || avg loss: 1.46 || grad time elapsed: 9.4 s] (0.0190s/batch)\n",
      "time elapsed: 63.38 min\n"
     ]
    }
   ],
   "source": [
    "model = CNN(in_conv=1, out_conv=24, out_channels=10, kernel_size=5, hidden_channels=200, norm=True, dropout=0.2, bias=True, act=torch.nn.Mish, out_fn=torch.nn.Softmax(dim=1))\n",
    "dvgs = DVGS(train_dataset, valid_dataset, test_dataset=None, model=model)\n",
    "dvgs.pretrain_(crit=torch.nn.CrossEntropyLoss(), num_workers=5, batch_size=256, lr=1e-3, epochs=10, use_cuda=True, verbose=True, report_metric=lambda x,y: accuracy_score(x,y.argmax(axis=1)))\n",
    "#dvgs.model.freeze_conv_layer()\n",
    "dvgs.model.fc.reset_parameters()\n",
    "print()\n",
    "\n",
    "tic = time.time() \n",
    "vals_dvgs, grad_mag = dvgs.run(crit          = torch.nn.CrossEntropyLoss(), \n",
    "                                similarity     = similarities.cosine_similarity(), \n",
    "                                optim          = torch.optim.Adam, \n",
    "                                lr             = 1e-3, \n",
    "                                num_epochs     = 100, \n",
    "                                compute_every  = 1, \n",
    "                                batch_size     = 2000, \n",
    "                                num_workers    = 1, \n",
    "                                grad_params    = [\"fc.f.0.weight\",\"fc.f.0.bias\",\"fc.f.3.weight\",\"fc.f.3.bias\",\"fc.f.4.weight\",\"fc.f.4.bias\"], \n",
    "                                verbose        = True, \n",
    "                                use_cuda       = True)\n",
    "print()\n",
    "print(f'time elapsed: {(time.time() - tic)/60:.2f} min')"
   ]
  },
  {
   "cell_type": "code",
   "execution_count": 35,
   "metadata": {},
   "outputs": [
    {
     "name": "stdout",
     "output_type": "stream",
     "text": [
      "training filtered models... progress: 0/5\r"
     ]
    },
    {
     "name": "stderr",
     "output_type": "stream",
     "text": [
      "/home/teddy/miniconda3/envs/dvgs/lib/python3.9/site-packages/torch/nn/modules/lazy.py:180: UserWarning: Lazy modules are a new feature under heavy development so changes to the API or functionality can happen at any moment.\n",
      "  warnings.warn('Lazy modules are a new feature under heavy development '\n"
     ]
    },
    {
     "name": "stdout",
     "output_type": "stream",
     "text": [
      "training filtered models... progress: 4/5\n"
     ]
    }
   ],
   "source": [
    "dvgs_data_values = vals_dvgs.mean(axis=1)\n",
    "\n",
    "model = CNN(in_conv=1, out_conv=24, out_channels=10, kernel_size=5, hidden_channels=200, norm=True, dropout=0.2, bias=True, act=torch.nn.Mish, out_fn=torch.nn.Softmax(dim=1))\n",
    "crit = torch.nn.CrossEntropyLoss() \n",
    "metric = lambda y,yhat: accuracy_score(y.ravel(), yhat.argmax(axis=1).ravel()) \n",
    "\n",
    "qs = np.linspace(0., 0.5, 5)\n",
    "bs = 256 \n",
    "nw = 1 \n",
    "lr = 1e-3 \n",
    "ep = 20\n",
    "rp = 1\n",
    "\n",
    "dvgs_low = get_filtered_scores_TORCHVISION(dvgs_data_values, copy.deepcopy(model), crit, metric, train_dataset, valid_dataset, qs=qs, batch_size=bs, num_workers=nw, lr=lr, epochs=ep, repl=rp)\n"
   ]
  },
  {
   "cell_type": "code",
   "execution_count": 36,
   "metadata": {},
   "outputs": [
    {
     "data": {
      "image/png": "[encoded data removed]",
      "text/plain": [
       "<Figure size 640x480 with 1 Axes>"
      ]
     },
     "metadata": {},
     "output_type": "display_data"
    }
   ],
   "source": [
    "plt.figure()\n",
    "plt.plot(qs, dvgs_low, 'r--')\n",
    "plt.xlabel('Fraction training data removed')\n",
    "plt.ylabel('Validation Performance (Accuracy)')\n",
    "plt.title('Removing low data-values')\n",
    "plt.show()"
   ]
  },
  {
   "cell_type": "code",
   "execution_count": 43,
   "metadata": {},
   "outputs": [
    {
     "name": "stdout",
     "output_type": "stream",
     "text": [
      "low t: 0.003607443626970055\n",
      "train size: 48000\n"
     ]
    },
    {
     "name": "stderr",
     "output_type": "stream",
     "text": [
      "/home/teddy/miniconda3/envs/dvgs/lib/python3.9/site-packages/torch/nn/modules/lazy.py:180: UserWarning: Lazy modules are a new feature under heavy development so changes to the API or functionality can happen at any moment.\n",
      "  warnings.warn('Lazy modules are a new feature under heavy development '\n"
     ]
    },
    {
     "name": "stdout",
     "output_type": "stream",
     "text": [
      "MNIST->USPS Domain Adaptation:\n",
      "\tBaseline (no adaption): 0.7279521674140508\n",
      "\tDVGS adaption: 0.7433981066268062\n"
     ]
    }
   ],
   "source": [
    "model = CNN(in_conv=1, out_conv=24, out_channels=10, kernel_size=5, hidden_channels=200, norm=True, dropout=0.2, bias=True, act=torch.nn.Mish, out_fn=torch.nn.Softmax(dim=1))\n",
    "\n",
    "\n",
    "q = 0.2\n",
    "\n",
    "low_t = np.quantile(dvgs_data_values, q)\n",
    "\n",
    "print('low t:', low_t)\n",
    "\n",
    "remove_low_idx = (dvgs_data_values >= low_t).nonzero()[0] \n",
    "\n",
    "print('train size:', len(remove_low_idx))\n",
    "\n",
    "_train_dataset = copy.deepcopy(train_dataset)\n",
    "_train_dataset.data[remove_low_idx,:,:]\n",
    "_train_dataset.targets[remove_low_idx]\n",
    "\n",
    "_, remove_low_res = train_model(model           = copy.deepcopy(model),\n",
    "                                    crit            = crit, \n",
    "                                    metric          = metric,\n",
    "                                    train_dataset   = _train_dataset, \n",
    "                                    test_dataset    = test_dataset, \n",
    "                                    batch_size      = bs,\n",
    "                                    num_workers     = nw, \n",
    "                                    lr              = lr,\n",
    "                                    epochs          = ep)\n",
    "                            \n",
    "_, baseline_res = train_model(model           = copy.deepcopy(model),\n",
    "                                    crit            = crit, \n",
    "                                    metric          = metric,\n",
    "                                    train_dataset   = train_dataset, \n",
    "                                    test_dataset    = test_dataset, \n",
    "                                    batch_size      = bs,\n",
    "                                    num_workers     = nw, \n",
    "                                    lr              = lr,\n",
    "                                    epochs          = ep)\n",
    "\n",
    "print('MNIST->USPS Domain Adaptation:')\n",
    "print('\\tBaseline (no adaption):', baseline_res)\n",
    "print('\\tDVGS adaption:', remove_low_res)"
   ]
  },
  {
   "cell_type": "code",
   "execution_count": null,
   "metadata": {},
   "outputs": [],
   "source": []
  }
 ],
 "metadata": {
  "kernelspec": {
   "display_name": "Python 3.9.15 ('dvgs')",
   "language": "python",
   "name": "python3"
  },
  "language_info": {
   "codemirror_mode": {
    "name": "ipython",
    "version": 3
   },
   "file_extension": ".py",
   "mimetype": "text/x-python",
   "name": "python",
   "nbconvert_exporter": "python",
   "pygments_lexer": "ipython3",
   "version": "3.9.15"
  },
  "orig_nbformat": 4,
  "vscode": {
   "interpreter": {
    "hash": "7a0c01d8e4fa1db1da0660ba3ef0ec4ab134f84670460ef20ad46a30fcd2cd9f"
   }
  }
 },
 "nbformat": 4,
 "nbformat_minor": 2
}
