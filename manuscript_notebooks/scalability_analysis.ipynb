{
 "cells": [
  {
   "cell_type": "code",
   "execution_count": 28,
   "metadata": {},
   "outputs": [
    {
     "name": "stdout",
     "output_type": "stream",
     "text": [
      "The autoreload extension is already loaded. To reload it, use:\n",
      "  %reload_ext autoreload\n"
     ]
    }
   ],
   "source": [
    "import pandas as pd \n",
    "import torch\n",
    "import numpy as np\n",
    "from matplotlib import pyplot as plt\n",
    "#from torchmetrics import JaccardIndex\n",
    "import seaborn as sbn\n",
    "from sklearn.metrics import roc_auc_score\n",
    "import time\n",
    "import torchvision\n",
    "import torchvision.transforms as transforms\n",
    "import matplotlib.cm as cm\n",
    "import matplotlib as mpl\n",
    "import copy\n",
    "from sklearn.utils.class_weight import compute_class_weight\n",
    "import statsmodels.formula.api as sm\n",
    "\n",
    "import sys \n",
    "sys.path.append('../src/')\n",
    "from DVGS import DVGS\n",
    "from utils import get_corruption_scores\n",
    "from NN import NN\n",
    "from utils import load_data \n",
    "import similarities\n",
    "\n",
    "%load_ext autoreload\n",
    "%autoreload 2"
   ]
  },
  {
   "cell_type": "code",
   "execution_count": 39,
   "metadata": {},
   "outputs": [],
   "source": [
    "train_num_options = np.linspace(500, 30000, 10, dtype=int)\n",
    "T_options = [1,2,5]"
   ]
  },
  {
   "cell_type": "code",
   "execution_count": 40,
   "metadata": {},
   "outputs": [],
   "source": [
    "def run(train_num, T): \n",
    "    \n",
    "    model = NN(in_channels      = 108, \n",
    "            out_channels     = 2, \n",
    "            num_layers       = 2, \n",
    "            hidden_channels  = 100, \n",
    "            norm             = True, \n",
    "            dropout          = 0.5, \n",
    "            bias             = True, \n",
    "            act              = torch.nn.Mish, \n",
    "            out_fn           = None)\n",
    "    \n",
    "    x_train, y_train, x_valid, y_valid, x_test, y_test, exog_noise, endog_noise, kwargs = load_data(dataset     = 'adult', \n",
    "                                                                                                    train_num   = train_num, \n",
    "                                                                                                    valid_num   = 400, \n",
    "                                                                                                    exog_noise  = 0., \n",
    "                                                                                                    endog_noise = 0.2, \n",
    "                                                                                                    save_dir    = f'../temp-data/', \n",
    "                                                                                                    clean_up    = True,\n",
    "                                                                                                    transforms  = None)\n",
    "    \n",
    "    classes = list(np.sort(np.unique(y_train.detach().numpy())).astype(int))\n",
    "\n",
    "    dvgs = DVGS(x_source         = x_train,\n",
    "                y_source         = y_train, \n",
    "                x_target         = x_valid,  \n",
    "                y_target         = y_valid, \n",
    "                model            = copy.deepcopy(model))\n",
    "\n",
    "    if True:\n",
    "        class_weights = torch.tensor(compute_class_weight(class_weight='balanced', classes=classes, y=y_valid.detach().numpy().ravel()), dtype=torch.float).to('cuda')\n",
    "    else: \n",
    "        class_weights = None # torch.tensor([0.5, 1.]).to('cuda')\n",
    "\n",
    "    CEL = torch.nn.CrossEntropyLoss(weight=class_weights) \n",
    "\n",
    "    tic = time.time() \n",
    "\n",
    "    run_id = dvgs.run(target_crit               = lambda x,y: CEL(x,y.squeeze(1)), \n",
    "                    source_crit               = lambda x,y: torch.nn.functional.cross_entropy(x, y.squeeze(1)),\n",
    "                    num_restarts              = 1,\n",
    "                    save_dir                  = '../results/',\n",
    "                    similarity                = similarities.cosine_similarity(),\n",
    "                    optim                     = torch.optim.Adam, \n",
    "                    lr                        = 1e-3,\n",
    "                    num_epochs                = 100, \n",
    "                    compute_every             = T, \n",
    "                    source_batch_size         = 500, \n",
    "                    target_batch_size         = 400,\n",
    "                    grad_params               = None, \n",
    "                    verbose                   = False, \n",
    "                    use_cuda                  = True)\n",
    "\n",
    "    vals_dvgs = dvgs.agg(f'../results/{run_id}/')\n",
    "    dvgs.clean(f'../results/{run_id}/')\n",
    "    elapsed = time.time() - tic\n",
    "    auroc = roc_auc_score(endog_noise, -vals_dvgs)\n",
    "\n",
    "    print(train_num, T, elapsed, auroc)\n",
    "\n",
    "    return auroc, elapsed"
   ]
  },
  {
   "cell_type": "code",
   "execution_count": 41,
   "metadata": {},
   "outputs": [
    {
     "name": "stdout",
     "output_type": "stream",
     "text": [
      "500 1 1.5385794639587402 0.8753000000000001\n",
      "500 2 0.9251189231872559 0.8385499999999999\n",
      "500 5 0.6951119899749756 0.890475\n",
      "5444 1 7.364964485168457 0.8814322410265759\n",
      "5444 2 3.813657760620117 0.891992071449792\n",
      "5444 5 1.9264438152313232 0.8803743906309079\n",
      "10388 1 13.49557113647461 0.8941245156180818\n",
      "10388 2 6.657733678817749 0.8679053990838925\n",
      "10388 5 3.0373826026916504 0.8500209738797134\n",
      "15333 1 18.964146852493286 0.886820470557493\n",
      "15333 2 10.035286903381348 0.8862118260102159\n",
      "15333 5 4.578825235366821 0.8400585877042928\n",
      "20277 1 27.077512502670288 0.8860994818958469\n",
      "20277 2 12.533743858337402 0.8717223918865568\n",
      "20277 5 5.379899024963379 0.8410730826186172\n",
      "25222 1 30.158173322677612 0.8343015795423899\n",
      "25222 2 15.5458242893219 0.8827762955296592\n",
      "25222 5 7.037868976593018 0.8713035074278257\n",
      "30166 1 39.79842519760132 0.8706705929443477\n",
      "30166 2 19.521955966949463 0.8421610705066389\n",
      "30166 5 7.571671485900879 0.8124067954294585\n",
      "35111 1 38.55855131149292 0.8959090093202728\n",
      "35111 2 20.282840967178345 0.898715263796457\n",
      "35111 5 8.042319059371948 0.6083265203133048\n",
      "40055 1 39.36715745925903 0.8787009961287285\n",
      "40055 2 19.541624307632446 0.8770005118401409\n",
      "40055 5 8.12254786491394 0.8717396660215961\n",
      "45000 1 38.94719409942627 0.8880177317497367\n",
      "45000 2 19.673982858657837 0.8824876104078282\n",
      "45000 5 8.078025579452515 0.8667479542429157\n"
     ]
    },
    {
     "data": {
      "text/html": [
       "<div>\n",
       "<style scoped>\n",
       "    .dataframe tbody tr th:only-of-type {\n",
       "        vertical-align: middle;\n",
       "    }\n",
       "\n",
       "    .dataframe tbody tr th {\n",
       "        vertical-align: top;\n",
       "    }\n",
       "\n",
       "    .dataframe thead th {\n",
       "        text-align: right;\n",
       "    }\n",
       "</style>\n",
       "<table border=\"1\" class=\"dataframe\">\n",
       "  <thead>\n",
       "    <tr style=\"text-align: right;\">\n",
       "      <th></th>\n",
       "      <th>train_num</th>\n",
       "      <th>T</th>\n",
       "      <th>elapsed</th>\n",
       "      <th>auroc</th>\n",
       "    </tr>\n",
       "  </thead>\n",
       "  <tbody>\n",
       "    <tr>\n",
       "      <th>0</th>\n",
       "      <td>500</td>\n",
       "      <td>1</td>\n",
       "      <td>1.538579</td>\n",
       "      <td>0.875300</td>\n",
       "    </tr>\n",
       "    <tr>\n",
       "      <th>1</th>\n",
       "      <td>500</td>\n",
       "      <td>2</td>\n",
       "      <td>0.925119</td>\n",
       "      <td>0.838550</td>\n",
       "    </tr>\n",
       "    <tr>\n",
       "      <th>2</th>\n",
       "      <td>500</td>\n",
       "      <td>5</td>\n",
       "      <td>0.695112</td>\n",
       "      <td>0.890475</td>\n",
       "    </tr>\n",
       "    <tr>\n",
       "      <th>3</th>\n",
       "      <td>5444</td>\n",
       "      <td>1</td>\n",
       "      <td>7.364964</td>\n",
       "      <td>0.881432</td>\n",
       "    </tr>\n",
       "    <tr>\n",
       "      <th>4</th>\n",
       "      <td>5444</td>\n",
       "      <td>2</td>\n",
       "      <td>3.813658</td>\n",
       "      <td>0.891992</td>\n",
       "    </tr>\n",
       "  </tbody>\n",
       "</table>\n",
       "</div>"
      ],
      "text/plain": [
       "   train_num  T   elapsed     auroc\n",
       "0        500  1  1.538579  0.875300\n",
       "1        500  2  0.925119  0.838550\n",
       "2        500  5  0.695112  0.890475\n",
       "3       5444  1  7.364964  0.881432\n",
       "4       5444  2  3.813658  0.891992"
      ]
     },
     "execution_count": 41,
     "metadata": {},
     "output_type": "execute_result"
    }
   ],
   "source": [
    "res = {'train_num':[],\n",
    "       'T':[], \n",
    "       'elapsed':[],\n",
    "       'auroc':[]} \n",
    "\n",
    "\n",
    "for train_num in train_num_options: \n",
    "    for T in T_options: \n",
    "        res['train_num'].append(train_num)\n",
    "        res['T'].append(T)\n",
    "        auroc, elapsed = run(train_num, T)\n",
    "        res['elapsed'].append(elapsed)\n",
    "        res['auroc'].append(auroc)\n",
    "                                \n",
    "res = pd.DataFrame(res)\n",
    "res.head()"
   ]
  },
  {
   "cell_type": "code",
   "execution_count": 42,
   "metadata": {},
   "outputs": [
    {
     "name": "stderr",
     "output_type": "stream",
     "text": [
      "/home/teddy/miniconda3/envs/dvgs/lib/python3.9/site-packages/scipy/stats/_stats_py.py:1736: UserWarning: kurtosistest only valid for n>=20 ... continuing anyway, n=10\n",
      "  warnings.warn(\"kurtosistest only valid for n>=20 ... continuing \"\n"
     ]
    },
    {
     "data": {
      "text/html": [
       "<table class=\"simpletable\">\n",
       "<caption>OLS Regression Results</caption>\n",
       "<tr>\n",
       "  <th>Dep. Variable:</th>         <td>elapsed</td>     <th>  R-squared:         </th> <td>   0.919</td>\n",
       "</tr>\n",
       "<tr>\n",
       "  <th>Model:</th>                   <td>OLS</td>       <th>  Adj. R-squared:    </th> <td>   0.909</td>\n",
       "</tr>\n",
       "<tr>\n",
       "  <th>Method:</th>             <td>Least Squares</td>  <th>  F-statistic:       </th> <td>   91.08</td>\n",
       "</tr>\n",
       "<tr>\n",
       "  <th>Date:</th>             <td>Fri, 10 Mar 2023</td> <th>  Prob (F-statistic):</th> <td>1.20e-05</td>\n",
       "</tr>\n",
       "<tr>\n",
       "  <th>Time:</th>                 <td>14:56:36</td>     <th>  Log-Likelihood:    </th> <td> -27.741</td>\n",
       "</tr>\n",
       "<tr>\n",
       "  <th>No. Observations:</th>      <td>    10</td>      <th>  AIC:               </th> <td>   59.48</td>\n",
       "</tr>\n",
       "<tr>\n",
       "  <th>Df Residuals:</th>          <td>     8</td>      <th>  BIC:               </th> <td>   60.09</td>\n",
       "</tr>\n",
       "<tr>\n",
       "  <th>Df Model:</th>              <td>     1</td>      <th>                     </th>     <td> </td>   \n",
       "</tr>\n",
       "<tr>\n",
       "  <th>Covariance Type:</th>      <td>nonrobust</td>    <th>                     </th>     <td> </td>   \n",
       "</tr>\n",
       "</table>\n",
       "<table class=\"simpletable\">\n",
       "<tr>\n",
       "      <td></td>         <th>coef</th>     <th>std err</th>      <th>t</th>      <th>P>|t|</th>  <th>[0.025</th>    <th>0.975]</th>  \n",
       "</tr>\n",
       "<tr>\n",
       "  <th>Intercept</th> <td>    4.5690</td> <td>    2.589</td> <td>    1.765</td> <td> 0.116</td> <td>   -1.401</td> <td>   10.539</td>\n",
       "</tr>\n",
       "<tr>\n",
       "  <th>train_num</th> <td>    0.0009</td> <td> 9.65e-05</td> <td>    9.544</td> <td> 0.000</td> <td>    0.001</td> <td>    0.001</td>\n",
       "</tr>\n",
       "</table>\n",
       "<table class=\"simpletable\">\n",
       "<tr>\n",
       "  <th>Omnibus:</th>       <td> 0.270</td> <th>  Durbin-Watson:     </th> <td>   0.785</td>\n",
       "</tr>\n",
       "<tr>\n",
       "  <th>Prob(Omnibus):</th> <td> 0.874</td> <th>  Jarque-Bera (JB):  </th> <td>   0.070</td>\n",
       "</tr>\n",
       "<tr>\n",
       "  <th>Skew:</th>          <td> 0.116</td> <th>  Prob(JB):          </th> <td>   0.966</td>\n",
       "</tr>\n",
       "<tr>\n",
       "  <th>Kurtosis:</th>      <td> 2.662</td> <th>  Cond. No.          </th> <td>5.06e+04</td>\n",
       "</tr>\n",
       "</table><br/><br/>Notes:<br/>[1] Standard Errors assume that the covariance matrix of the errors is correctly specified.<br/>[2] The condition number is large, 5.06e+04. This might indicate that there are<br/>strong multicollinearity or other numerical problems."
      ],
      "text/plain": [
       "<class 'statsmodels.iolib.summary.Summary'>\n",
       "\"\"\"\n",
       "                            OLS Regression Results                            \n",
       "==============================================================================\n",
       "Dep. Variable:                elapsed   R-squared:                       0.919\n",
       "Model:                            OLS   Adj. R-squared:                  0.909\n",
       "Method:                 Least Squares   F-statistic:                     91.08\n",
       "Date:                Fri, 10 Mar 2023   Prob (F-statistic):           1.20e-05\n",
       "Time:                        14:56:36   Log-Likelihood:                -27.741\n",
       "No. Observations:                  10   AIC:                             59.48\n",
       "Df Residuals:                       8   BIC:                             60.09\n",
       "Df Model:                           1                                         \n",
       "Covariance Type:            nonrobust                                         \n",
       "==============================================================================\n",
       "                 coef    std err          t      P>|t|      [0.025      0.975]\n",
       "------------------------------------------------------------------------------\n",
       "Intercept      4.5690      2.589      1.765      0.116      -1.401      10.539\n",
       "train_num      0.0009   9.65e-05      9.544      0.000       0.001       0.001\n",
       "==============================================================================\n",
       "Omnibus:                        0.270   Durbin-Watson:                   0.785\n",
       "Prob(Omnibus):                  0.874   Jarque-Bera (JB):                0.070\n",
       "Skew:                           0.116   Prob(JB):                        0.966\n",
       "Kurtosis:                       2.662   Cond. No.                     5.06e+04\n",
       "==============================================================================\n",
       "\n",
       "Notes:\n",
       "[1] Standard Errors assume that the covariance matrix of the errors is correctly specified.\n",
       "[2] The condition number is large, 5.06e+04. This might indicate that there are\n",
       "strong multicollinearity or other numerical problems.\n",
       "\"\"\""
      ]
     },
     "execution_count": 42,
     "metadata": {},
     "output_type": "execute_result"
    }
   ],
   "source": [
    "result = sm.ols(formula=\"elapsed ~ train_num\", data=res[lambda x: x['T'] == 1]).fit()\n",
    "result.summary()"
   ]
  },
  {
   "cell_type": "code",
   "execution_count": 63,
   "metadata": {},
   "outputs": [],
   "source": [
    "res = res.assign(train_num_k=lambda x: x.train_num / 1000)\n",
    "res = res[lambda x: x.train_num <= 30000]\n",
    "res = res.assign(Tc = lambda x: [str(t) for t in x['T']])"
   ]
  },
  {
   "cell_type": "code",
   "execution_count": 80,
   "metadata": {},
   "outputs": [
    {
     "data": {
      "image/png": "[encoded data removed]",
      "text/plain": [
       "<Figure size 500x500 with 1 Axes>"
      ]
     },
     "metadata": {},
     "output_type": "display_data"
    }
   ],
   "source": [
    "plt.figure(figsize=(5,5))\n",
    "sbn.scatterplot(x='train_num_k', y='elapsed', data=res, style='T', c='k', s=150)\n",
    "sbn.regplot(x='train_num_k', y='elapsed', data=res[lambda x: x['T'] == 1], ci=None, scatter=None, color='k', line_kws={'linestyle':'--'})\n",
    "sbn.regplot(x='train_num_k', y='elapsed', data=res[lambda x: x['T'] == 2], ci=None, scatter=None, color='k', line_kws={'linestyle':'--'})\n",
    "sbn.regplot(x='train_num_k', y='elapsed', data=res[lambda x: x['T'] == 5], ci=None, scatter=None, color = 'k', line_kws={'linestyle':'--'})\n",
    "plt.xlabel('Number Source Samples (thousands)')\n",
    "plt.ylabel('DVGS Data Valuation Time Elapsed (s)')\n",
    "plt.savefig('../results/scalability_time.png')\n",
    "plt.show()"
   ]
  },
  {
   "cell_type": "code",
   "execution_count": 79,
   "metadata": {},
   "outputs": [
    {
     "data": {
      "image/png": "[encoded data removed]",
      "text/plain": [
       "<Figure size 500x500 with 1 Axes>"
      ]
     },
     "metadata": {},
     "output_type": "display_data"
    }
   ],
   "source": [
    "plt.figure(figsize=(5,5))\n",
    "sbn.boxplot(x='T', y='auroc', data=res)\n",
    "plt.ylabel('Corrupt Label Identification (AUROC)')\n",
    "plt.savefig('../results/scalability_T_perf.png', dpi=300)\n",
    "plt.show()"
   ]
  },
  {
   "cell_type": "code",
   "execution_count": null,
   "metadata": {},
   "outputs": [],
   "source": []
  }
 ],
 "metadata": {
  "kernelspec": {
   "display_name": "Python 3.9.15 ('dvgs')",
   "language": "python",
   "name": "python3"
  },
  "language_info": {
   "codemirror_mode": {
    "name": "ipython",
    "version": 3
   },
   "file_extension": ".py",
   "mimetype": "text/x-python",
   "name": "python",
   "nbconvert_exporter": "python",
   "pygments_lexer": "ipython3",
   "version": "3.9.16"
  },
  "orig_nbformat": 4,
  "vscode": {
   "interpreter": {
    "hash": "7a0c01d8e4fa1db1da0660ba3ef0ec4ab134f84670460ef20ad46a30fcd2cd9f"
   }
  }
 },
 "nbformat": 4,
 "nbformat_minor": 2
}
