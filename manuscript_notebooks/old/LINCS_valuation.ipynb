{
 "cells": [
  {
   "cell_type": "code",
   "execution_count": 1,
   "metadata": {},
   "outputs": [
    {
     "name": "stderr",
     "output_type": "stream",
     "text": [
      "/home/teddy/miniconda3/envs/dvgs/lib/python3.9/site-packages/tqdm/auto.py:22: TqdmWarning: IProgress not found. Please update jupyter and ipywidgets. See https://ipywidgets.readthedocs.io/en/stable/user_install.html\n",
      "  from .autonotebook import tqdm as notebook_tqdm\n"
     ]
    }
   ],
   "source": [
    "import pandas as pd \n",
    "import torch\n",
    "import numpy as np\n",
    "from matplotlib import pyplot as plt\n",
    "#from torchmetrics import JaccardIndex\n",
    "import seaborn as sbn\n",
    "from sklearn.metrics import roc_auc_score, accuracy_score\n",
    "import time\n",
    "import torchvision\n",
    "import torchvision.transforms as transforms\n",
    "import h5py \n",
    "\n",
    "import sys \n",
    "sys.path.append('../src/')\n",
    "from data_loading import load_tabular_data, preprocess_data, corrupt_label\n",
    "from AEDataset import AEDataset\n",
    "from DVGS import DVGS\n",
    "from DVRL import DVRL\n",
    "from utils import get_corruption_scores\n",
    "from NN import NN\n",
    "from CNN import CNN\n",
    "from AE import AE\n",
    "from sklearn.metrics import r2_score\n",
    "import similarities\n",
    "\n",
    "%load_ext autoreload\n",
    "%autoreload 2"
   ]
  },
  {
   "cell_type": "markdown",
   "metadata": {},
   "source": [
    "# LINCS Valuation \n",
    "\n",
    "Train - All samples without an APC value or with an APC value less than 0.7. \n",
    "Valid - 75% of samples with an APC value >= 0.7 \n",
    "Test - 25% of samples with an APC value >= 0.7\n",
    "\n",
    "In this approach, we explore how data valuation can be used in unsupervised settings. To do this we will be using drug perturbed cancer cell line gene expression from the LINCS project. Data quality in this project is notoriously variable due to batch effects and biological variability; one sample level quality metric that has shown promise is the Average Pearson Correlation (APC) of bio-replicates. We will use this metric to create a 'high quality' validation and test dataset, and use it as baseline to compare against. \n",
    "\n",
    "We will use 978 \"landmark\" genes expression in a auto-encoder architecture, with the assumption that higher quality data is more likely to have latent variables that can be captured in a reduced representation, e.g., noise won't compress. \n",
    "\n",
    "To evaluate the usefulness of this, we will iteratively remove subsets of low/high data values and evaluate autoencoder performance on a hold-out high-quality test datatset. For baseline, we will compare against APC values, where NA values will be median-imputed. \n",
    "\n",
    "\n",
    "# Missing rAPC ids \n",
    "\n",
    "For some reason there are ~500 missing ids from `rAPC.csv`; has something to do with NAN `pert_dose` "
   ]
  },
  {
   "cell_type": "code",
   "execution_count": 2,
   "metadata": {},
   "outputs": [],
   "source": [
    "x_train = torch.load('../data/lincs/l1000_data_TRAIN.pt')\n",
    "x_valid = torch.load('../data/lincs/l1000_data_VALID.pt')"
   ]
  },
  {
   "cell_type": "code",
   "execution_count": 3,
   "metadata": {},
   "outputs": [],
   "source": [
    "train_dataset = AEDataset(x_train)\n",
    "valid_dataset = AEDataset(x_valid)"
   ]
  },
  {
   "cell_type": "code",
   "execution_count": 4,
   "metadata": {},
   "outputs": [],
   "source": [
    "model = AE(in_channels=978, latent_channels=64, norm=False, dropout=0.25, bias=True, act=torch.nn.Mish, num_layers=1)\n",
    "dvgs = DVGS(train_dataset, valid_dataset, test_dataset=None, model=model)\n",
    "#dvgs.pretrain_(crit=torch.nn.MSELoss(), num_workers=5, batch_size=512, lr=1e-3, epochs=1, use_cuda=True, verbose=True, report_metric=lambda x,y: r2_score(x,y, multioutput='uniform_average'))"
   ]
  },
  {
   "cell_type": "code",
   "execution_count": 5,
   "metadata": {},
   "outputs": [
    {
     "name": "stdout",
     "output_type": "stream",
     "text": [
      "\"encoder.f.0.weight\",\"encoder.f.0.bias\",\"encoder.f.4.weight\",\"encoder.f.4.bias\",\"decoder.f.0.weight\",\"decoder.f.0.bias\",\"decoder.f.4.weight\",\"decoder.f.4.bias\","
     ]
    }
   ],
   "source": [
    "_ = [print(f'\"{n}\",',end='') for n,p in model.named_parameters()]"
   ]
  },
  {
   "cell_type": "code",
   "execution_count": 8,
   "metadata": {},
   "outputs": [
    {
     "name": "stdout",
     "output_type": "stream",
     "text": [
      "source gradient calculations will use randomness=\"same\" instead of \"different\" as it with GPU.\n",
      "using device: cpu\n",
      "epoch 0 || computing sample gradients... [5120/1778785] (2.3669s/batch)\r"
     ]
    },
    {
     "ename": "KeyboardInterrupt",
     "evalue": "",
     "output_type": "error",
     "traceback": [
      "\u001b[0;31m---------------------------------------------------------------------------\u001b[0m",
      "\u001b[0;31mKeyboardInterrupt\u001b[0m                         Traceback (most recent call last)",
      "Cell \u001b[0;32mIn [8], line 4\u001b[0m\n\u001b[1;32m      1\u001b[0m \u001b[39m# this should take around 11 hours \u001b[39;00m\n\u001b[1;32m      3\u001b[0m tic \u001b[39m=\u001b[39m time\u001b[39m.\u001b[39mtime() \n\u001b[0;32m----> 4\u001b[0m run_id \u001b[39m=\u001b[39m dvgs\u001b[39m.\u001b[39;49mrun(crit                  \u001b[39m=\u001b[39;49m torch\u001b[39m.\u001b[39;49mnn\u001b[39m.\u001b[39;49mMSELoss(), \n\u001b[1;32m      5\u001b[0m                   save_dir              \u001b[39m=\u001b[39;49m \u001b[39m'\u001b[39;49m\u001b[39m../lincs_results/\u001b[39;49m\u001b[39m'\u001b[39;49m,\n\u001b[1;32m      6\u001b[0m                   similarity            \u001b[39m=\u001b[39;49m similarities\u001b[39m.\u001b[39;49mcosine_similarity(), \n\u001b[1;32m      7\u001b[0m                   optim                 \u001b[39m=\u001b[39;49m torch\u001b[39m.\u001b[39;49moptim\u001b[39m.\u001b[39;49mAdam, \n\u001b[1;32m      8\u001b[0m                   lr                    \u001b[39m=\u001b[39;49m \u001b[39m1e-3\u001b[39;49m, \n\u001b[1;32m      9\u001b[0m                   num_epochs            \u001b[39m=\u001b[39;49m \u001b[39m10\u001b[39;49m, \n\u001b[1;32m     10\u001b[0m                   compute_every         \u001b[39m=\u001b[39;49m \u001b[39m1\u001b[39;49m, \n\u001b[1;32m     11\u001b[0m                   target_batch_size     \u001b[39m=\u001b[39;49m \u001b[39m2000\u001b[39;49m, \n\u001b[1;32m     12\u001b[0m                   source_batch_size     \u001b[39m=\u001b[39;49m \u001b[39m256\u001b[39;49m, \n\u001b[1;32m     13\u001b[0m                   num_workers           \u001b[39m=\u001b[39;49m \u001b[39m1\u001b[39;49m, \n\u001b[1;32m     14\u001b[0m                   grad_params           \u001b[39m=\u001b[39;49m \u001b[39mNone\u001b[39;49;00m, \n\u001b[1;32m     15\u001b[0m                   verbose               \u001b[39m=\u001b[39;49m \u001b[39mTrue\u001b[39;49;00m, \n\u001b[1;32m     16\u001b[0m                   use_cuda              \u001b[39m=\u001b[39;49m \u001b[39mFalse\u001b[39;49;00m)\n\u001b[1;32m     18\u001b[0m \u001b[39mprint\u001b[39m()\n\u001b[1;32m     19\u001b[0m \u001b[39mprint\u001b[39m(\u001b[39mf\u001b[39m\u001b[39m'\u001b[39m\u001b[39mtime elapsed: \u001b[39m\u001b[39m{\u001b[39;00m(time\u001b[39m.\u001b[39mtime() \u001b[39m-\u001b[39m tic)\u001b[39m/\u001b[39m\u001b[39m60\u001b[39m\u001b[39m:\u001b[39;00m\u001b[39m.2f\u001b[39m\u001b[39m}\u001b[39;00m\u001b[39m min\u001b[39m\u001b[39m'\u001b[39m)\n",
      "File \u001b[0;32m~/local/DVGS/manuscript_notebooks/../src/DVGS.py:136\u001b[0m, in \u001b[0;36mDVGS.run\u001b[0;34m(self, crit, save_dir, similarity, optim, lr, num_epochs, compute_every, target_batch_size, source_batch_size, num_workers, grad_params, verbose, use_cuda)\u001b[0m\n\u001b[1;32m    134\u001b[0m ft_per_sample_grads \u001b[39m=\u001b[39m ft_compute_sample_grad(params, buffers, x_batch, y_batch)\n\u001b[1;32m    135\u001b[0m batch_grads \u001b[39m=\u001b[39m torch\u001b[39m.\u001b[39mcat([_g\u001b[39m.\u001b[39mview(x_batch\u001b[39m.\u001b[39msize(\u001b[39m0\u001b[39m), \u001b[39m-\u001b[39m\u001b[39m1\u001b[39m) \u001b[39mfor\u001b[39;00m _g, (n,p) \u001b[39min\u001b[39;00m \u001b[39mzip\u001b[39m(ft_per_sample_grads, model\u001b[39m.\u001b[39mnamed_parameters()) \u001b[39mif\u001b[39;00m n \u001b[39min\u001b[39;00m grad_params], dim\u001b[39m=\u001b[39m\u001b[39m1\u001b[39m)\n\u001b[0;32m--> 136\u001b[0m batch_sim \u001b[39m=\u001b[39m similarity(grad_valid\u001b[39m.\u001b[39;49munsqueeze(\u001b[39m0\u001b[39;49m)\u001b[39m.\u001b[39;49mexpand(x_batch\u001b[39m.\u001b[39;49msize(\u001b[39m0\u001b[39;49m), \u001b[39m-\u001b[39;49m\u001b[39m1\u001b[39;49m), batch_grads)\u001b[39m.\u001b[39mdetach()\u001b[39m.\u001b[39mcpu()\n\u001b[1;32m    137\u001b[0m data_vals[j:\u001b[39mint\u001b[39m(j \u001b[39m+\u001b[39m x_batch\u001b[39m.\u001b[39msize(\u001b[39m0\u001b[39m))] \u001b[39m=\u001b[39m batch_sim \n\u001b[1;32m    138\u001b[0m \u001b[39mprint\u001b[39m(\u001b[39mf\u001b[39m\u001b[39m'\u001b[39m\u001b[39mepoch \u001b[39m\u001b[39m{\u001b[39;00mepoch\u001b[39m}\u001b[39;00m\u001b[39m || computing sample gradients... [\u001b[39m\u001b[39m{\u001b[39;00mj\u001b[39m}\u001b[39;00m\u001b[39m/\u001b[39m\u001b[39m{\u001b[39;00m\u001b[39mlen\u001b[39m(\u001b[39mself\u001b[39m\u001b[39m.\u001b[39mtrain)\u001b[39m}\u001b[39;00m\u001b[39m] (\u001b[39m\u001b[39m{\u001b[39;00mtime\u001b[39m.\u001b[39mtime()\u001b[39m-\u001b[39m_tic\u001b[39m:\u001b[39;00m\u001b[39m.4f\u001b[39m\u001b[39m}\u001b[39;00m\u001b[39ms/batch)\u001b[39m\u001b[39m'\u001b[39m, end\u001b[39m=\u001b[39m\u001b[39m'\u001b[39m\u001b[39m\\r\u001b[39;00m\u001b[39m'\u001b[39m)\n",
      "File \u001b[0;32m~/miniconda3/envs/dvgs/lib/python3.9/site-packages/torch/nn/modules/module.py:1190\u001b[0m, in \u001b[0;36mModule._call_impl\u001b[0;34m(self, *input, **kwargs)\u001b[0m\n\u001b[1;32m   1186\u001b[0m \u001b[39m# If we don't have any hooks, we want to skip the rest of the logic in\u001b[39;00m\n\u001b[1;32m   1187\u001b[0m \u001b[39m# this function, and just call forward.\u001b[39;00m\n\u001b[1;32m   1188\u001b[0m \u001b[39mif\u001b[39;00m \u001b[39mnot\u001b[39;00m (\u001b[39mself\u001b[39m\u001b[39m.\u001b[39m_backward_hooks \u001b[39mor\u001b[39;00m \u001b[39mself\u001b[39m\u001b[39m.\u001b[39m_forward_hooks \u001b[39mor\u001b[39;00m \u001b[39mself\u001b[39m\u001b[39m.\u001b[39m_forward_pre_hooks \u001b[39mor\u001b[39;00m _global_backward_hooks\n\u001b[1;32m   1189\u001b[0m         \u001b[39mor\u001b[39;00m _global_forward_hooks \u001b[39mor\u001b[39;00m _global_forward_pre_hooks):\n\u001b[0;32m-> 1190\u001b[0m     \u001b[39mreturn\u001b[39;00m forward_call(\u001b[39m*\u001b[39;49m\u001b[39minput\u001b[39;49m, \u001b[39m*\u001b[39;49m\u001b[39m*\u001b[39;49mkwargs)\n\u001b[1;32m   1191\u001b[0m \u001b[39m# Do not call functions when jit is used\u001b[39;00m\n\u001b[1;32m   1192\u001b[0m full_backward_hooks, non_full_backward_hooks \u001b[39m=\u001b[39m [], []\n",
      "File \u001b[0;32m~/miniconda3/envs/dvgs/lib/python3.9/site-packages/torch/nn/modules/distance.py:87\u001b[0m, in \u001b[0;36mCosineSimilarity.forward\u001b[0;34m(self, x1, x2)\u001b[0m\n\u001b[1;32m     86\u001b[0m \u001b[39mdef\u001b[39;00m \u001b[39mforward\u001b[39m(\u001b[39mself\u001b[39m, x1: Tensor, x2: Tensor) \u001b[39m-\u001b[39m\u001b[39m>\u001b[39m Tensor:\n\u001b[0;32m---> 87\u001b[0m     \u001b[39mreturn\u001b[39;00m F\u001b[39m.\u001b[39;49mcosine_similarity(x1, x2, \u001b[39mself\u001b[39;49m\u001b[39m.\u001b[39;49mdim, \u001b[39mself\u001b[39;49m\u001b[39m.\u001b[39;49meps)\n",
      "\u001b[0;31mKeyboardInterrupt\u001b[0m: "
     ]
    }
   ],
   "source": [
    "# this should take around 11 hours \n",
    "\n",
    "tic = time.time() \n",
    "run_id = dvgs.run(crit                  = torch.nn.MSELoss(), \n",
    "                  save_dir              = '../lincs_results/',\n",
    "                  similarity            = similarities.cosine_similarity(), \n",
    "                  optim                 = torch.optim.Adam, \n",
    "                  lr                    = 1e-3, \n",
    "                  num_epochs            = 10, \n",
    "                  compute_every         = 1, \n",
    "                  target_batch_size     = 2000, \n",
    "                  source_batch_size     = 256, \n",
    "                  num_workers           = 1, \n",
    "                  grad_params           = None, \n",
    "                  verbose               = True, \n",
    "                  use_cuda              = True)\n",
    "\n",
    "print()\n",
    "print(f'time elapsed: {(time.time() - tic)/60:.2f} min')"
   ]
  },
  {
   "cell_type": "code",
   "execution_count": 12,
   "metadata": {},
   "outputs": [
    {
     "data": {
      "text/html": [
       "<div>\n",
       "<style scoped>\n",
       "    .dataframe tbody tr th:only-of-type {\n",
       "        vertical-align: middle;\n",
       "    }\n",
       "\n",
       "    .dataframe tbody tr th {\n",
       "        vertical-align: top;\n",
       "    }\n",
       "\n",
       "    .dataframe thead th {\n",
       "        text-align: right;\n",
       "    }\n",
       "</style>\n",
       "<table border=\"1\" class=\"dataframe\">\n",
       "  <thead>\n",
       "    <tr style=\"text-align: right;\">\n",
       "      <th></th>\n",
       "      <th>sample_id</th>\n",
       "      <th>APC</th>\n",
       "      <th>nrepl</th>\n",
       "      <th>L1</th>\n",
       "      <th>L2</th>\n",
       "      <th>train</th>\n",
       "      <th>valid</th>\n",
       "      <th>vals</th>\n",
       "    </tr>\n",
       "  </thead>\n",
       "  <tbody>\n",
       "    <tr>\n",
       "      <th>0</th>\n",
       "      <td>ABY001_A375_XH_X1_B15:A13</td>\n",
       "      <td>0.324414</td>\n",
       "      <td>8.0</td>\n",
       "      <td>1.649418</td>\n",
       "      <td>11.675443</td>\n",
       "      <td>True</td>\n",
       "      <td>False</td>\n",
       "      <td>0.029520</td>\n",
       "    </tr>\n",
       "    <tr>\n",
       "      <th>1</th>\n",
       "      <td>ABY001_A375_XH_X1_B15:A14</td>\n",
       "      <td>0.189060</td>\n",
       "      <td>10.0</td>\n",
       "      <td>1.265392</td>\n",
       "      <td>4.093121</td>\n",
       "      <td>True</td>\n",
       "      <td>False</td>\n",
       "      <td>0.008067</td>\n",
       "    </tr>\n",
       "    <tr>\n",
       "      <th>2</th>\n",
       "      <td>ABY001_A375_XH_X1_B15:A15</td>\n",
       "      <td>0.436836</td>\n",
       "      <td>9.0</td>\n",
       "      <td>2.257690</td>\n",
       "      <td>11.702172</td>\n",
       "      <td>True</td>\n",
       "      <td>False</td>\n",
       "      <td>0.024970</td>\n",
       "    </tr>\n",
       "    <tr>\n",
       "      <th>3</th>\n",
       "      <td>ABY001_A375_XH_X1_B15:A16</td>\n",
       "      <td>0.089820</td>\n",
       "      <td>8.0</td>\n",
       "      <td>0.961196</td>\n",
       "      <td>2.485945</td>\n",
       "      <td>True</td>\n",
       "      <td>False</td>\n",
       "      <td>0.006870</td>\n",
       "    </tr>\n",
       "    <tr>\n",
       "      <th>4</th>\n",
       "      <td>ABY001_A375_XH_X1_B15:A17</td>\n",
       "      <td>0.367309</td>\n",
       "      <td>8.0</td>\n",
       "      <td>1.855790</td>\n",
       "      <td>9.666554</td>\n",
       "      <td>True</td>\n",
       "      <td>False</td>\n",
       "      <td>0.058801</td>\n",
       "    </tr>\n",
       "  </tbody>\n",
       "</table>\n",
       "</div>"
      ],
      "text/plain": [
       "                   sample_id       APC  nrepl        L1         L2  train  \\\n",
       "0  ABY001_A375_XH_X1_B15:A13  0.324414    8.0  1.649418  11.675443   True   \n",
       "1  ABY001_A375_XH_X1_B15:A14  0.189060   10.0  1.265392   4.093121   True   \n",
       "2  ABY001_A375_XH_X1_B15:A15  0.436836    9.0  2.257690  11.702172   True   \n",
       "3  ABY001_A375_XH_X1_B15:A16  0.089820    8.0  0.961196   2.485945   True   \n",
       "4  ABY001_A375_XH_X1_B15:A17  0.367309    8.0  1.855790   9.666554   True   \n",
       "\n",
       "   valid      vals  \n",
       "0  False  0.029520  \n",
       "1  False  0.008067  \n",
       "2  False  0.024970  \n",
       "3  False  0.006870  \n",
       "4  False  0.058801  "
      ]
     },
     "execution_count": 12,
     "metadata": {},
     "output_type": "execute_result"
    }
   ],
   "source": [
    "apc2 = apc[lambda x: x.train].assign(vals = vals_dvgs.mean(axis=1))\n",
    "apc2.head()"
   ]
  },
  {
   "cell_type": "code",
   "execution_count": 13,
   "metadata": {},
   "outputs": [
    {
     "data": {
      "text/html": [
       "<div>\n",
       "<style scoped>\n",
       "    .dataframe tbody tr th:only-of-type {\n",
       "        vertical-align: middle;\n",
       "    }\n",
       "\n",
       "    .dataframe tbody tr th {\n",
       "        vertical-align: top;\n",
       "    }\n",
       "\n",
       "    .dataframe thead th {\n",
       "        text-align: right;\n",
       "    }\n",
       "</style>\n",
       "<table border=\"1\" class=\"dataframe\">\n",
       "  <thead>\n",
       "    <tr style=\"text-align: right;\">\n",
       "      <th></th>\n",
       "      <th>APC</th>\n",
       "      <th>vals</th>\n",
       "    </tr>\n",
       "  </thead>\n",
       "  <tbody>\n",
       "    <tr>\n",
       "      <th>APC</th>\n",
       "      <td>1.000000</td>\n",
       "      <td>0.567863</td>\n",
       "    </tr>\n",
       "    <tr>\n",
       "      <th>vals</th>\n",
       "      <td>0.567863</td>\n",
       "      <td>1.000000</td>\n",
       "    </tr>\n",
       "  </tbody>\n",
       "</table>\n",
       "</div>"
      ],
      "text/plain": [
       "           APC      vals\n",
       "APC   1.000000  0.567863\n",
       "vals  0.567863  1.000000"
      ]
     },
     "execution_count": 13,
     "metadata": {},
     "output_type": "execute_result"
    }
   ],
   "source": [
    "apc2[lambda x: x.APC != -666][['APC','vals']].corr('pearson')"
   ]
  },
  {
   "cell_type": "code",
   "execution_count": 14,
   "metadata": {},
   "outputs": [
    {
     "data": {
      "text/html": [
       "<div>\n",
       "<style scoped>\n",
       "    .dataframe tbody tr th:only-of-type {\n",
       "        vertical-align: middle;\n",
       "    }\n",
       "\n",
       "    .dataframe tbody tr th {\n",
       "        vertical-align: top;\n",
       "    }\n",
       "\n",
       "    .dataframe thead th {\n",
       "        text-align: right;\n",
       "    }\n",
       "</style>\n",
       "<table border=\"1\" class=\"dataframe\">\n",
       "  <thead>\n",
       "    <tr style=\"text-align: right;\">\n",
       "      <th></th>\n",
       "      <th>APC</th>\n",
       "      <th>vals</th>\n",
       "    </tr>\n",
       "  </thead>\n",
       "  <tbody>\n",
       "    <tr>\n",
       "      <th>APC</th>\n",
       "      <td>1.000000</td>\n",
       "      <td>0.199434</td>\n",
       "    </tr>\n",
       "    <tr>\n",
       "      <th>vals</th>\n",
       "      <td>0.199434</td>\n",
       "      <td>1.000000</td>\n",
       "    </tr>\n",
       "  </tbody>\n",
       "</table>\n",
       "</div>"
      ],
      "text/plain": [
       "           APC      vals\n",
       "APC   1.000000  0.199434\n",
       "vals  0.199434  1.000000"
      ]
     },
     "execution_count": 14,
     "metadata": {},
     "output_type": "execute_result"
    }
   ],
   "source": [
    "apc2[lambda x: x.APC != -666][['APC','vals']].corr('spearman')"
   ]
  },
  {
   "cell_type": "code",
   "execution_count": 15,
   "metadata": {},
   "outputs": [
    {
     "data": {
      "image/png": "[encoded data removed]",
      "text/plain": [
       "<Figure size 640x480 with 1 Axes>"
      ]
     },
     "metadata": {},
     "output_type": "display_data"
    }
   ],
   "source": [
    "plt.figure()\n",
    "plt.plot(apc2[lambda x: x.APC != -666].APC.values, apc2[lambda x: x.APC != -666].vals.values, 'k.', alpha=0.1)\n",
    "plt.xlabel('APC')\n",
    "plt.ylabel('data values')\n",
    "plt.show()"
   ]
  },
  {
   "cell_type": "code",
   "execution_count": 27,
   "metadata": {},
   "outputs": [
    {
     "data": {
      "text/html": [
       "<div>\n",
       "<style scoped>\n",
       "    .dataframe tbody tr th:only-of-type {\n",
       "        vertical-align: middle;\n",
       "    }\n",
       "\n",
       "    .dataframe tbody tr th {\n",
       "        vertical-align: top;\n",
       "    }\n",
       "\n",
       "    .dataframe thead th {\n",
       "        text-align: right;\n",
       "    }\n",
       "</style>\n",
       "<table border=\"1\" class=\"dataframe\">\n",
       "  <thead>\n",
       "    <tr style=\"text-align: right;\">\n",
       "      <th></th>\n",
       "      <th>sample_id</th>\n",
       "      <th>APC</th>\n",
       "      <th>nrepl</th>\n",
       "      <th>L1</th>\n",
       "      <th>L2</th>\n",
       "      <th>train</th>\n",
       "      <th>valid</th>\n",
       "      <th>vals</th>\n",
       "    </tr>\n",
       "  </thead>\n",
       "  <tbody>\n",
       "    <tr>\n",
       "      <th>0</th>\n",
       "      <td>ABY001_A375_XH_X1_B15:A13</td>\n",
       "      <td>0.324414</td>\n",
       "      <td>8.0</td>\n",
       "      <td>1.649418</td>\n",
       "      <td>11.675443</td>\n",
       "      <td>True</td>\n",
       "      <td>False</td>\n",
       "      <td>0.095473</td>\n",
       "    </tr>\n",
       "    <tr>\n",
       "      <th>1</th>\n",
       "      <td>ABY001_A375_XH_X1_B15:A14</td>\n",
       "      <td>0.189060</td>\n",
       "      <td>10.0</td>\n",
       "      <td>1.265392</td>\n",
       "      <td>4.093121</td>\n",
       "      <td>True</td>\n",
       "      <td>False</td>\n",
       "      <td>0.080264</td>\n",
       "    </tr>\n",
       "    <tr>\n",
       "      <th>2</th>\n",
       "      <td>ABY001_A375_XH_X1_B15:A15</td>\n",
       "      <td>0.436836</td>\n",
       "      <td>9.0</td>\n",
       "      <td>2.257690</td>\n",
       "      <td>11.702172</td>\n",
       "      <td>True</td>\n",
       "      <td>False</td>\n",
       "      <td>0.089090</td>\n",
       "    </tr>\n",
       "    <tr>\n",
       "      <th>3</th>\n",
       "      <td>ABY001_A375_XH_X1_B15:A16</td>\n",
       "      <td>0.089820</td>\n",
       "      <td>8.0</td>\n",
       "      <td>0.961196</td>\n",
       "      <td>2.485945</td>\n",
       "      <td>True</td>\n",
       "      <td>False</td>\n",
       "      <td>0.056643</td>\n",
       "    </tr>\n",
       "    <tr>\n",
       "      <th>4</th>\n",
       "      <td>ABY001_A375_XH_X1_B15:A17</td>\n",
       "      <td>0.367309</td>\n",
       "      <td>8.0</td>\n",
       "      <td>1.855790</td>\n",
       "      <td>9.666554</td>\n",
       "      <td>True</td>\n",
       "      <td>False</td>\n",
       "      <td>0.046387</td>\n",
       "    </tr>\n",
       "  </tbody>\n",
       "</table>\n",
       "</div>"
      ],
      "text/plain": [
       "                   sample_id       APC  nrepl        L1         L2  train  \\\n",
       "0  ABY001_A375_XH_X1_B15:A13  0.324414    8.0  1.649418  11.675443   True   \n",
       "1  ABY001_A375_XH_X1_B15:A14  0.189060   10.0  1.265392   4.093121   True   \n",
       "2  ABY001_A375_XH_X1_B15:A15  0.436836    9.0  2.257690  11.702172   True   \n",
       "3  ABY001_A375_XH_X1_B15:A16  0.089820    8.0  0.961196   2.485945   True   \n",
       "4  ABY001_A375_XH_X1_B15:A17  0.367309    8.0  1.855790   9.666554   True   \n",
       "\n",
       "   valid      vals  \n",
       "0  False  0.095473  \n",
       "1  False  0.080264  \n",
       "2  False  0.089090  \n",
       "3  False  0.056643  \n",
       "4  False  0.046387  "
      ]
     },
     "execution_count": 27,
     "metadata": {},
     "output_type": "execute_result"
    }
   ],
   "source": [
    "apc2.head()"
   ]
  },
  {
   "cell_type": "code",
   "execution_count": 29,
   "metadata": {},
   "outputs": [],
   "source": [
    "top80_idx = (apc2.vals >= apc2.vals.quantile(0.2)).values.nonzero()[0]"
   ]
  },
  {
   "cell_type": "code",
   "execution_count": 31,
   "metadata": {},
   "outputs": [
    {
     "ename": "",
     "evalue": "",
     "output_type": "error",
     "traceback": [
      "\u001b[1;31mCanceled future for execute_request message before replies were done"
     ]
    },
    {
     "ename": "",
     "evalue": "",
     "output_type": "error",
     "traceback": [
      "\u001b[1;31mThe Kernel crashed while executing code in the the current cell or a previous cell. Please review the code in the cell(s) to identify a possible cause of the failure. Click <a href='https://aka.ms/vscodeJupyterKernelCrash'>here</a> for more info. View Jupyter <a href='command:jupyter.viewOutput'>log</a> for further details."
     ]
    }
   ],
   "source": [
    "top80_train = l1000[train_idx, :][top80_idx, :]"
   ]
  },
  {
   "cell_type": "code",
   "execution_count": null,
   "metadata": {},
   "outputs": [
    {
     "name": "stderr",
     "output_type": "stream",
     "text": [
      "/home/teddy/local/DVGS/manuscript_notebooks/../src/AEDataset.py:9: UserWarning: To copy construct from a tensor, it is recommended to use sourceTensor.clone().detach() or sourceTensor.clone().detach().requires_grad_(True), rather than torch.tensor(sourceTensor).\n",
      "  self.x = torch.tensor(x, dtype=torch.float32)\n"
     ]
    }
   ],
   "source": [
    "top80_train_dataset = AEDataset(top80_train)"
   ]
  },
  {
   "cell_type": "code",
   "execution_count": null,
   "metadata": {},
   "outputs": [
    {
     "name": "stdout",
     "output_type": "stream",
     "text": [
      "using device: cuda\n",
      "\n",
      "epoch: 0 | loss: 4.4388 | metric: 0.1074\n",
      "epoch: 1 | loss: 4.4395 | metric: 0.1069\n",
      "epoch: 2 | loss: 4.4401 | metric: 0.1068\r"
     ]
    }
   ],
   "source": [
    "model2 = AE(in_channels=978, latent_channels=100, norm=True, dropout=0.25, bias=True, act=torch.nn.Mish, num_layers=1)\n",
    "dvgs2 = DVGS(top80_train_dataset, valid_dataset=None, test_dataset=None, model=model)\n",
    "dvgs2.pretrain_(crit=torch.nn.MSELoss(), num_workers=5, batch_size=512, lr=1e-3, epochs=3, use_cuda=True, verbose=True, report_metric=lambda x,y: r2_score(x,y, multioutput='uniform_average'))"
   ]
  },
  {
   "cell_type": "code",
   "execution_count": null,
   "metadata": {},
   "outputs": [],
   "source": []
  }
 ],
 "metadata": {
  "kernelspec": {
   "display_name": "Python 3.9.15 ('dvgs')",
   "language": "python",
   "name": "python3"
  },
  "language_info": {
   "codemirror_mode": {
    "name": "ipython",
    "version": 3
   },
   "file_extension": ".py",
   "mimetype": "text/x-python",
   "name": "python",
   "nbconvert_exporter": "python",
   "pygments_lexer": "ipython3",
   "version": "3.9.15"
  },
  "orig_nbformat": 4,
  "vscode": {
   "interpreter": {
    "hash": "7a0c01d8e4fa1db1da0660ba3ef0ec4ab134f84670460ef20ad46a30fcd2cd9f"
   }
  }
 },
 "nbformat": 4,
 "nbformat_minor": 2
}
