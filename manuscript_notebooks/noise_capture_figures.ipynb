{
 "cells": [
  {
   "cell_type": "code",
   "execution_count": 4,
   "metadata": {},
   "outputs": [
    {
     "name": "stderr",
     "output_type": "stream",
     "text": [
      "/home/teddy/miniconda3/envs/dvgs/lib/python3.9/site-packages/tqdm/auto.py:22: TqdmWarning: IProgress not found. Please update jupyter and ipywidgets. See https://ipywidgets.readthedocs.io/en/stable/user_install.html\n",
      "  from .autonotebook import tqdm as notebook_tqdm\n"
     ]
    }
   ],
   "source": [
    "from matplotlib import pyplot as plt \n",
    "import torch\n",
    "import torchvision\n",
    "import numpy as np \n",
    "import pickle as pkl\n",
    "import os\n",
    "from scipy.stats import spearmanr\n",
    "import pandas as pd\n",
    "from sklearn.metrics import roc_auc_score\n",
    "from scipy.stats import spearmanr\n",
    "import statsmodels.api as sm\n",
    "\n",
    "import sys \n",
    "sys.path.append('../src/')\n",
    "from utils import load_config, get_corruption_scores, load_data"
   ]
  },
  {
   "attachments": {},
   "cell_type": "markdown",
   "metadata": {},
   "source": [
    "# Load results"
   ]
  },
  {
   "cell_type": "code",
   "execution_count": 23,
   "metadata": {},
   "outputs": [
    {
     "data": {
      "text/html": [
       "<div>\n",
       "<style scoped>\n",
       "    .dataframe tbody tr th:only-of-type {\n",
       "        vertical-align: middle;\n",
       "    }\n",
       "\n",
       "    .dataframe tbody tr th {\n",
       "        vertical-align: top;\n",
       "    }\n",
       "\n",
       "    .dataframe thead th {\n",
       "        text-align: right;\n",
       "    }\n",
       "</style>\n",
       "<table border=\"1\" class=\"dataframe\">\n",
       "  <thead>\n",
       "    <tr style=\"text-align: right;\">\n",
       "      <th></th>\n",
       "      <th>uid</th>\n",
       "      <th>config</th>\n",
       "      <th>config-checksum</th>\n",
       "      <th>method</th>\n",
       "      <th>perf_filter_low</th>\n",
       "      <th>perf_filter_high</th>\n",
       "      <th>runtime_s</th>\n",
       "    </tr>\n",
       "  </thead>\n",
       "  <tbody>\n",
       "    <tr>\n",
       "      <th>4</th>\n",
       "      <td>d039bca1-db3b-419a-984c-c90d659adeb6</td>\n",
       "      <td>../configs/exp9.py</td>\n",
       "      <td>7fda8bf7b6ff289986265c07c4f7301d</td>\n",
       "      <td>apc</td>\n",
       "      <td>[0.5446721050475989, 0.5460765748397177, 0.545...</td>\n",
       "      <td>[0.5460794409648685, 0.5004156623242253, 0.495...</td>\n",
       "      <td>580.629185</td>\n",
       "    </tr>\n",
       "    <tr>\n",
       "      <th>5</th>\n",
       "      <td>c4bde617-c85e-4795-a229-9c6b0fd86685</td>\n",
       "      <td>../configs/exp9.py</td>\n",
       "      <td>7fda8bf7b6ff289986265c07c4f7301d</td>\n",
       "      <td>dvrl</td>\n",
       "      <td>[0.5376693360256, 0.5386716300679386, 0.537005...</td>\n",
       "      <td>[0.5376823716830336, 0.37620287920574025, 0.16...</td>\n",
       "      <td>2939.960701</td>\n",
       "    </tr>\n",
       "    <tr>\n",
       "      <th>6</th>\n",
       "      <td>32903a02-1aa2-4a48-91bf-8fec2017d866</td>\n",
       "      <td>../configs/exp9.py</td>\n",
       "      <td>fb1fc9baf981d5b864540517326ba528</td>\n",
       "      <td>dvgs</td>\n",
       "      <td>[0.37050692876381464, 0.3710821725852407, 0.37...</td>\n",
       "      <td>[0.3718095196669918, 0.34428378967351964, 0.33...</td>\n",
       "      <td>5965.998089</td>\n",
       "    </tr>\n",
       "    <tr>\n",
       "      <th>7</th>\n",
       "      <td>460af3fe-8039-4114-a41f-cea221947870</td>\n",
       "      <td>../configs/exp9.py</td>\n",
       "      <td>8b0a672f55533933f3a0a774d9b1d72a</td>\n",
       "      <td>dvgs</td>\n",
       "      <td>[0.38382925774337795, 0.38558532274636115, 0.3...</td>\n",
       "      <td>[0.383495396029547, 0.35655916617412753, 0.349...</td>\n",
       "      <td>6876.683777</td>\n",
       "    </tr>\n",
       "    <tr>\n",
       "      <th>8</th>\n",
       "      <td>f8e28034-211c-4951-96c6-fe11eb510319</td>\n",
       "      <td>../configs/exp9.py</td>\n",
       "      <td>ab19c4458bd90f363204dda6fe0b106d</td>\n",
       "      <td>dvgs</td>\n",
       "      <td>[0.40476187961383076, 0.4052954024927965, 0.40...</td>\n",
       "      <td>[0.40503318809254785, 0.36936324458992126, 0.3...</td>\n",
       "      <td>26599.154014</td>\n",
       "    </tr>\n",
       "  </tbody>\n",
       "</table>\n",
       "</div>"
      ],
      "text/plain": [
       "                                    uid              config  \\\n",
       "4  d039bca1-db3b-419a-984c-c90d659adeb6  ../configs/exp9.py   \n",
       "5  c4bde617-c85e-4795-a229-9c6b0fd86685  ../configs/exp9.py   \n",
       "6  32903a02-1aa2-4a48-91bf-8fec2017d866  ../configs/exp9.py   \n",
       "7  460af3fe-8039-4114-a41f-cea221947870  ../configs/exp9.py   \n",
       "8  f8e28034-211c-4951-96c6-fe11eb510319  ../configs/exp9.py   \n",
       "\n",
       "                    config-checksum method  \\\n",
       "4  7fda8bf7b6ff289986265c07c4f7301d    apc   \n",
       "5  7fda8bf7b6ff289986265c07c4f7301d   dvrl   \n",
       "6  fb1fc9baf981d5b864540517326ba528   dvgs   \n",
       "7  8b0a672f55533933f3a0a774d9b1d72a   dvgs   \n",
       "8  ab19c4458bd90f363204dda6fe0b106d   dvgs   \n",
       "\n",
       "                                     perf_filter_low  \\\n",
       "4  [0.5446721050475989, 0.5460765748397177, 0.545...   \n",
       "5  [0.5376693360256, 0.5386716300679386, 0.537005...   \n",
       "6  [0.37050692876381464, 0.3710821725852407, 0.37...   \n",
       "7  [0.38382925774337795, 0.38558532274636115, 0.3...   \n",
       "8  [0.40476187961383076, 0.4052954024927965, 0.40...   \n",
       "\n",
       "                                    perf_filter_high     runtime_s  \n",
       "4  [0.5460794409648685, 0.5004156623242253, 0.495...    580.629185  \n",
       "5  [0.5376823716830336, 0.37620287920574025, 0.16...   2939.960701  \n",
       "6  [0.3718095196669918, 0.34428378967351964, 0.33...   5965.998089  \n",
       "7  [0.383495396029547, 0.35655916617412753, 0.349...   6876.683777  \n",
       "8  [0.40503318809254785, 0.36936324458992126, 0.3...  26599.154014  "
      ]
     },
     "execution_count": 23,
     "metadata": {},
     "output_type": "execute_result"
    }
   ],
   "source": [
    "out_dir = '../results/exp9'\n",
    "\n",
    "res = pd.read_csv(f'{out_dir}/results.csv', sep='\\t')\n",
    "res.tail()"
   ]
  },
  {
   "cell_type": "code",
   "execution_count": 24,
   "metadata": {},
   "outputs": [
    {
     "data": {
      "text/html": [
       "<div>\n",
       "<style scoped>\n",
       "    .dataframe tbody tr th:only-of-type {\n",
       "        vertical-align: middle;\n",
       "    }\n",
       "\n",
       "    .dataframe tbody tr th {\n",
       "        vertical-align: top;\n",
       "    }\n",
       "\n",
       "    .dataframe thead th {\n",
       "        text-align: right;\n",
       "    }\n",
       "</style>\n",
       "<table border=\"1\" class=\"dataframe\">\n",
       "  <thead>\n",
       "    <tr style=\"text-align: right;\">\n",
       "      <th></th>\n",
       "      <th>uid</th>\n",
       "      <th>config</th>\n",
       "      <th>config-checksum</th>\n",
       "      <th>method</th>\n",
       "      <th>perf_filter_low</th>\n",
       "      <th>perf_filter_high</th>\n",
       "      <th>runtime_s</th>\n",
       "    </tr>\n",
       "  </thead>\n",
       "  <tbody>\n",
       "    <tr>\n",
       "      <th>8</th>\n",
       "      <td>f8e28034-211c-4951-96c6-fe11eb510319</td>\n",
       "      <td>../configs/exp9.py</td>\n",
       "      <td>ab19c4458bd90f363204dda6fe0b106d</td>\n",
       "      <td>dvgs</td>\n",
       "      <td>[0.40476187961383076, 0.4052954024927965, 0.40...</td>\n",
       "      <td>[0.40503318809254785, 0.36936324458992126, 0.3...</td>\n",
       "      <td>26599.154014</td>\n",
       "    </tr>\n",
       "    <tr>\n",
       "      <th>7</th>\n",
       "      <td>460af3fe-8039-4114-a41f-cea221947870</td>\n",
       "      <td>../configs/exp9.py</td>\n",
       "      <td>8b0a672f55533933f3a0a774d9b1d72a</td>\n",
       "      <td>dvgs</td>\n",
       "      <td>[0.38382925774337795, 0.38558532274636115, 0.3...</td>\n",
       "      <td>[0.383495396029547, 0.35655916617412753, 0.349...</td>\n",
       "      <td>6876.683777</td>\n",
       "    </tr>\n",
       "  </tbody>\n",
       "</table>\n",
       "</div>"
      ],
      "text/plain": [
       "                                    uid              config  \\\n",
       "8  f8e28034-211c-4951-96c6-fe11eb510319  ../configs/exp9.py   \n",
       "7  460af3fe-8039-4114-a41f-cea221947870  ../configs/exp9.py   \n",
       "\n",
       "                    config-checksum method  \\\n",
       "8  ab19c4458bd90f363204dda6fe0b106d   dvgs   \n",
       "7  8b0a672f55533933f3a0a774d9b1d72a   dvgs   \n",
       "\n",
       "                                     perf_filter_low  \\\n",
       "8  [0.40476187961383076, 0.4052954024927965, 0.40...   \n",
       "7  [0.38382925774337795, 0.38558532274636115, 0.3...   \n",
       "\n",
       "                                    perf_filter_high     runtime_s  \n",
       "8  [0.40503318809254785, 0.36936324458992126, 0.3...  26599.154014  \n",
       "7  [0.383495396029547, 0.35655916617412753, 0.349...   6876.683777  "
      ]
     },
     "execution_count": 24,
     "metadata": {},
     "output_type": "execute_result"
    }
   ],
   "source": [
    "res = res.iloc[[-1, -2]]\n",
    "res"
   ]
  },
  {
   "cell_type": "code",
   "execution_count": 25,
   "metadata": {},
   "outputs": [],
   "source": [
    "vals_dict = {uid:\n",
    "                {\n",
    "                 'vals':np.load(f'{out_dir}/data_values/{uid}/data_values.npy', allow_pickle=True), \n",
    "                 'exog':np.load(f'{out_dir}/data_values/{uid}/exog_noise.npy', allow_pickle=True),\n",
    "                 'endog':np.load(f'{out_dir}/data_values/{uid}/endog_noise.npy', allow_pickle=True)\n",
    "                } \n",
    "            for uid in res.uid.values}"
   ]
  },
  {
   "cell_type": "code",
   "execution_count": 26,
   "metadata": {},
   "outputs": [
    {
     "name": "stdout",
     "output_type": "stream",
     "text": [
      "WARNING! config checksums are not identical, config file may have changed between runs.\n"
     ]
    }
   ],
   "source": [
    "# check that all config-checksums are identical; if not, it may have changed between runs \n",
    "if res['config-checksum'].unique().shape[0] > 1: \n",
    "    print('WARNING! config checksums are not identical, config file may have changed between runs.')\n",
    "\n",
    "# check that the same config file was used \n",
    "if res['config'].unique().shape[0] > 1: \n",
    "    print('WARNING! Different config. files were used between runs.')"
   ]
  },
  {
   "cell_type": "code",
   "execution_count": 27,
   "metadata": {},
   "outputs": [],
   "source": [
    "config = load_config(res.config.values[0])"
   ]
  },
  {
   "attachments": {},
   "cell_type": "markdown",
   "metadata": {},
   "source": [
    "# corrupted label identification "
   ]
  },
  {
   "cell_type": "code",
   "execution_count": 28,
   "metadata": {},
   "outputs": [
    {
     "ename": "ValueError",
     "evalue": "all the input array dimensions except for the concatenation axis must match exactly, but along dimension 0, the array at index 0 has size 1 and the array at index 1 has size 710216",
     "output_type": "error",
     "traceback": [
      "\u001b[0;31m---------------------------------------------------------------------------\u001b[0m",
      "\u001b[0;31mValueError\u001b[0m                                Traceback (most recent call last)",
      "Cell \u001b[0;32mIn[28], line 13\u001b[0m\n\u001b[1;32m     10\u001b[0m exog_noise \u001b[39m=\u001b[39m vals_dict[row\u001b[39m.\u001b[39muid][\u001b[39m'\u001b[39m\u001b[39mexog\u001b[39m\u001b[39m'\u001b[39m]\n\u001b[1;32m     11\u001b[0m vals \u001b[39m=\u001b[39m vals_dict[row\u001b[39m.\u001b[39muid][\u001b[39m'\u001b[39m\u001b[39mvals\u001b[39m\u001b[39m'\u001b[39m]\n\u001b[0;32m---> 13\u001b[0m spearman_corr[method]\u001b[39m.\u001b[39mappend(spearmanr(exog_noise, vals)[\u001b[39m0\u001b[39m])\n\u001b[1;32m     15\u001b[0m lowess \u001b[39m=\u001b[39m sm\u001b[39m.\u001b[39mnonparametric\u001b[39m.\u001b[39mlowess\n\u001b[1;32m     16\u001b[0m lowess_fit \u001b[39m=\u001b[39m lowess(vals\u001b[39m.\u001b[39mravel(), np\u001b[39m.\u001b[39marray(exog_noise)\u001b[39m.\u001b[39mravel(), return_sorted\u001b[39m=\u001b[39m\u001b[39mFalse\u001b[39;00m, frac\u001b[39m=\u001b[39m\u001b[39m0.4\u001b[39m)\n",
      "File \u001b[0;32m~/miniconda3/envs/dvgs/lib/python3.9/site-packages/scipy/stats/_stats_py.py:4903\u001b[0m, in \u001b[0;36mspearmanr\u001b[0;34m(a, b, axis, nan_policy, alternative)\u001b[0m\n\u001b[1;32m   4901\u001b[0m b, _ \u001b[39m=\u001b[39m _chk_asarray(b, axis)\n\u001b[1;32m   4902\u001b[0m \u001b[39mif\u001b[39;00m axisout \u001b[39m==\u001b[39m \u001b[39m0\u001b[39m:\n\u001b[0;32m-> 4903\u001b[0m     a \u001b[39m=\u001b[39m np\u001b[39m.\u001b[39;49mcolumn_stack((a, b))\n\u001b[1;32m   4904\u001b[0m \u001b[39melse\u001b[39;00m:\n\u001b[1;32m   4905\u001b[0m     a \u001b[39m=\u001b[39m np\u001b[39m.\u001b[39mrow_stack((a, b))\n",
      "File \u001b[0;32m<__array_function__ internals>:200\u001b[0m, in \u001b[0;36mcolumn_stack\u001b[0;34m(*args, **kwargs)\u001b[0m\n",
      "File \u001b[0;32m~/miniconda3/envs/dvgs/lib/python3.9/site-packages/numpy/lib/shape_base.py:656\u001b[0m, in \u001b[0;36mcolumn_stack\u001b[0;34m(tup)\u001b[0m\n\u001b[1;32m    654\u001b[0m         arr \u001b[39m=\u001b[39m array(arr, copy\u001b[39m=\u001b[39m\u001b[39mFalse\u001b[39;00m, subok\u001b[39m=\u001b[39m\u001b[39mTrue\u001b[39;00m, ndmin\u001b[39m=\u001b[39m\u001b[39m2\u001b[39m)\u001b[39m.\u001b[39mT\n\u001b[1;32m    655\u001b[0m     arrays\u001b[39m.\u001b[39mappend(arr)\n\u001b[0;32m--> 656\u001b[0m \u001b[39mreturn\u001b[39;00m _nx\u001b[39m.\u001b[39;49mconcatenate(arrays, \u001b[39m1\u001b[39;49m)\n",
      "File \u001b[0;32m<__array_function__ internals>:200\u001b[0m, in \u001b[0;36mconcatenate\u001b[0;34m(*args, **kwargs)\u001b[0m\n",
      "\u001b[0;31mValueError\u001b[0m: all the input array dimensions except for the concatenation axis must match exactly, but along dimension 0, the array at index 0 has size 1 and the array at index 1 has size 710216"
     ]
    }
   ],
   "source": [
    "spearman_corr = {m:[] for m in res.method.unique()}\n",
    "\n",
    "for method, c in zip(res.method.unique(), ['r', 'g', 'b', 'm', 'c']): \n",
    "\n",
    "    _temp = res[lambda x: x.method == method]\n",
    "    \n",
    "    pp_corr = []\n",
    "    for i,row in _temp.iterrows(): \n",
    "\n",
    "        exog_noise = vals_dict[row.uid]['exog']\n",
    "        vals = vals_dict[row.uid]['vals']\n",
    "\n",
    "        spearman_corr[method].append(spearmanr(exog_noise, vals)[0])\n",
    "\n",
    "        lowess = sm.nonparametric.lowess\n",
    "        lowess_fit = lowess(vals.ravel(), np.array(exog_noise).ravel(), return_sorted=False, frac=0.4)\n",
    "\n",
    "        plt.figure(figsize=(5, 5))\n",
    "        plt.plot(exog_noise, vals, \"k.\", label='data')\n",
    "        plt.plot(exog_noise, lowess_fit, \"r.\", label='lowess')\n",
    "        plt.xlabel('sample exog. noise rate')\n",
    "        plt.ylabel('data value')\n",
    "        plt.title(f'method: {method}')\n",
    "        plt.grid(visible=True)\n",
    "        plt.legend()\n",
    "        plt.show()\n"
   ]
  },
  {
   "cell_type": "code",
   "execution_count": 29,
   "metadata": {},
   "outputs": [
    {
     "name": "stdout",
     "output_type": "stream",
     "text": [
      "\n"
     ]
    },
    {
     "name": "stderr",
     "output_type": "stream",
     "text": [
      "/home/teddy/miniconda3/envs/dvgs/lib/python3.9/site-packages/numpy/core/fromnumeric.py:3464: RuntimeWarning: Mean of empty slice.\n",
      "  return _methods._mean(a, axis=axis, dtype=dtype,\n",
      "/home/teddy/miniconda3/envs/dvgs/lib/python3.9/site-packages/numpy/core/_methods.py:192: RuntimeWarning: invalid value encountered in scalar divide\n",
      "  ret = ret.dtype.type(ret / rcount)\n",
      "/home/teddy/miniconda3/envs/dvgs/lib/python3.9/site-packages/numpy/core/_methods.py:269: RuntimeWarning: Degrees of freedom <= 0 for slice\n",
      "  ret = _var(a, axis=axis, dtype=dtype, out=out, ddof=ddof,\n",
      "/home/teddy/miniconda3/envs/dvgs/lib/python3.9/site-packages/numpy/core/_methods.py:226: RuntimeWarning: invalid value encountered in divide\n",
      "  arrmean = um.true_divide(arrmean, div, out=arrmean,\n",
      "/home/teddy/miniconda3/envs/dvgs/lib/python3.9/site-packages/numpy/core/_methods.py:261: RuntimeWarning: invalid value encountered in scalar divide\n",
      "  ret = ret.dtype.type(ret / rcount)\n"
     ]
    }
   ],
   "source": [
    "table_latex = [[config.dataset]]\n",
    "for method in ['dvgs', 'dshap', 'dvrl', 'loo', 'random']: \n",
    "    if method in spearman_corr: \n",
    "        table_latex.append( [f'{np.mean(spearman_corr[method]):.3f} $\\pm$ {2*np.std(spearman_corr[method]):.3f}'] )\n",
    "    else: \n",
    "        table_latex.append(['NA'])\n",
    "\n",
    "table_latex = pd.DataFrame(table_latex).T \n",
    "table_latex.columns= ['Dataset', 'dvgs', 'dshap', 'dvrl', 'loo', 'random']\n",
    "\n",
    "print()\n",
    "#table_latex.style.to_latex()"
   ]
  },
  {
   "cell_type": "code",
   "execution_count": 30,
   "metadata": {},
   "outputs": [
    {
     "data": {
      "text/html": [
       "<div>\n",
       "<style scoped>\n",
       "    .dataframe tbody tr th:only-of-type {\n",
       "        vertical-align: middle;\n",
       "    }\n",
       "\n",
       "    .dataframe tbody tr th {\n",
       "        vertical-align: top;\n",
       "    }\n",
       "\n",
       "    .dataframe thead th {\n",
       "        text-align: right;\n",
       "    }\n",
       "</style>\n",
       "<table border=\"1\" class=\"dataframe\">\n",
       "  <thead>\n",
       "    <tr style=\"text-align: right;\">\n",
       "      <th></th>\n",
       "      <th>Dataset</th>\n",
       "      <th>dvgs</th>\n",
       "      <th>dshap</th>\n",
       "      <th>dvrl</th>\n",
       "      <th>loo</th>\n",
       "      <th>random</th>\n",
       "    </tr>\n",
       "  </thead>\n",
       "  <tbody>\n",
       "    <tr>\n",
       "      <th>0</th>\n",
       "      <td>lincs</td>\n",
       "      <td>nan $\\pm$ nan</td>\n",
       "      <td>NA</td>\n",
       "      <td>NA</td>\n",
       "      <td>NA</td>\n",
       "      <td>NA</td>\n",
       "    </tr>\n",
       "  </tbody>\n",
       "</table>\n",
       "</div>"
      ],
      "text/plain": [
       "  Dataset           dvgs dshap dvrl loo random\n",
       "0   lincs  nan $\\pm$ nan    NA   NA  NA     NA"
      ]
     },
     "execution_count": 30,
     "metadata": {},
     "output_type": "execute_result"
    }
   ],
   "source": [
    "table_latex"
   ]
  },
  {
   "attachments": {},
   "cell_type": "markdown",
   "metadata": {},
   "source": [
    "# Filtered Data Performance"
   ]
  },
  {
   "cell_type": "code",
   "execution_count": 31,
   "metadata": {},
   "outputs": [
    {
     "data": {
      "image/png": "[encoded data removed]",
      "text/plain": [
       "<Figure size 500x500 with 1 Axes>"
      ]
     },
     "metadata": {},
     "output_type": "display_data"
    }
   ],
   "source": [
    "plt.figure(figsize=(5, 5))\n",
    "\n",
    "for method, c in zip(res.method.unique(), ['r', 'g', 'b', 'm', 'c']): \n",
    "\n",
    "    _temp = res[lambda x: x.method == method]\n",
    "    \n",
    "    _low = [] \n",
    "    _high = [] \n",
    "    for i,row in _temp.iterrows(): \n",
    "        _low.append(row.perf_filter_low.strip('[]').split(','))\n",
    "        _high.append(row.perf_filter_high.strip('[]').split(','))\n",
    "\n",
    "    _low = np.stack(_low, axis=0).astype(float)\n",
    "    _high = np.stack(_high, axis=0).astype(float)\n",
    "\n",
    "    plt.plot(config.filter_kwargs['qs'], _low.mean(axis=0), color=c, label=f'{method}::filter-low', linestyle='-')\n",
    "    plt.plot(config.filter_kwargs['qs'], _low.mean(axis=0), color=c, marker='.')\n",
    "    plt.fill_between(config.filter_kwargs['qs'], np.quantile(a=_low, q=0.05, axis=0), np.quantile(a=_low, q=0.95, axis=0), color=c, alpha=.2)\n",
    "\n",
    "    plt.plot(config.filter_kwargs['qs'], _high.mean(axis=0), color=c, linestyle='--', label=f'{method}::filter-high')\n",
    "    #plt.plot(config.filter_kwargs['qs'], _high.mean(axis=0), color=c, marker='.', linestyle=None)\n",
    "    plt.fill_between(config.filter_kwargs['qs'], np.quantile(a=_high, q=0.05, axis=0), np.quantile(a=_high, q=0.95, axis=0), color=c, alpha=.2)\n",
    "\n",
    "plt.legend()\n",
    "plt.xlabel('Fraction data filtered')\n",
    "plt.ylabel('Model Performance')\n",
    "plt.grid(visible=None)\n",
    "plt.show()"
   ]
  },
  {
   "cell_type": "code",
   "execution_count": null,
   "metadata": {},
   "outputs": [],
   "source": []
  },
  {
   "cell_type": "code",
   "execution_count": null,
   "metadata": {},
   "outputs": [],
   "source": []
  }
 ],
 "metadata": {
  "kernelspec": {
   "display_name": "dvgs",
   "language": "python",
   "name": "python3"
  },
  "language_info": {
   "codemirror_mode": {
    "name": "ipython",
    "version": 3
   },
   "file_extension": ".py",
   "mimetype": "text/x-python",
   "name": "python",
   "nbconvert_exporter": "python",
   "pygments_lexer": "ipython3",
   "version": "3.9.16"
  },
  "orig_nbformat": 4,
  "vscode": {
   "interpreter": {
    "hash": "7a0c01d8e4fa1db1da0660ba3ef0ec4ab134f84670460ef20ad46a30fcd2cd9f"
   }
  }
 },
 "nbformat": 4,
 "nbformat_minor": 2
}
