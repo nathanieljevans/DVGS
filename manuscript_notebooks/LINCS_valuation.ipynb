{
 "cells": [
  {
   "cell_type": "code",
   "execution_count": 4,
   "metadata": {},
   "outputs": [
    {
     "name": "stdout",
     "output_type": "stream",
     "text": [
      "The autoreload extension is already loaded. To reload it, use:\n",
      "  %reload_ext autoreload\n"
     ]
    }
   ],
   "source": [
    "import pandas as pd \n",
    "import torch\n",
    "import numpy as np\n",
    "from matplotlib import pyplot as plt\n",
    "#from torchmetrics import JaccardIndex\n",
    "import seaborn as sbn\n",
    "from sklearn.metrics import roc_auc_score, accuracy_score\n",
    "import time\n",
    "import torchvision\n",
    "import torchvision.transforms as transforms\n",
    "\n",
    "import sys \n",
    "sys.path.append('../src/')\n",
    "from data_loading import load_tabular_data, preprocess_data, corrupt_label\n",
    "from AEDataset import AEDataset\n",
    "from DVGS import DVGS\n",
    "from DVRL import DVRL\n",
    "from utils import get_corruption_scores\n",
    "from NN import NN\n",
    "from CNN import CNN\n",
    "from AE import AE\n",
    "from sklearn.metrics import r2_score\n",
    "import similarities\n",
    "\n",
    "%load_ext autoreload\n",
    "%autoreload 2"
   ]
  },
  {
   "cell_type": "code",
   "execution_count": 5,
   "metadata": {},
   "outputs": [
    {
     "data": {
      "text/plain": [
       "torch.Size([945263, 978])"
      ]
     },
     "execution_count": 5,
     "metadata": {},
     "output_type": "execute_result"
    }
   ],
   "source": [
    "l1000 = torch.load('../../LINCS_DVRL/data/proc/l1000.pt')\n",
    "sample_ids = open('../../LINCS_DVRL/data/proc/l1000_row_sample_ids.txt').read().split(',')\n",
    "l1000.size()"
   ]
  },
  {
   "cell_type": "code",
   "execution_count": 6,
   "metadata": {},
   "outputs": [
    {
     "data": {
      "text/html": [
       "<div>\n",
       "<style scoped>\n",
       "    .dataframe tbody tr th:only-of-type {\n",
       "        vertical-align: middle;\n",
       "    }\n",
       "\n",
       "    .dataframe tbody tr th {\n",
       "        vertical-align: top;\n",
       "    }\n",
       "\n",
       "    .dataframe thead th {\n",
       "        text-align: right;\n",
       "    }\n",
       "</style>\n",
       "<table border=\"1\" class=\"dataframe\">\n",
       "  <thead>\n",
       "    <tr style=\"text-align: right;\">\n",
       "      <th></th>\n",
       "      <th>sample_id</th>\n",
       "      <th>APC</th>\n",
       "      <th>nrepl</th>\n",
       "      <th>L1</th>\n",
       "      <th>L2</th>\n",
       "      <th>train</th>\n",
       "      <th>valid</th>\n",
       "    </tr>\n",
       "  </thead>\n",
       "  <tbody>\n",
       "    <tr>\n",
       "      <th>0</th>\n",
       "      <td>ABY001_A375_XH_X1_B15:A13</td>\n",
       "      <td>0.324414</td>\n",
       "      <td>8.0</td>\n",
       "      <td>1.649418</td>\n",
       "      <td>11.675443</td>\n",
       "      <td>True</td>\n",
       "      <td>False</td>\n",
       "    </tr>\n",
       "    <tr>\n",
       "      <th>1</th>\n",
       "      <td>ABY001_A375_XH_X1_B15:A14</td>\n",
       "      <td>0.189060</td>\n",
       "      <td>10.0</td>\n",
       "      <td>1.265392</td>\n",
       "      <td>4.093121</td>\n",
       "      <td>True</td>\n",
       "      <td>False</td>\n",
       "    </tr>\n",
       "    <tr>\n",
       "      <th>2</th>\n",
       "      <td>ABY001_A375_XH_X1_B15:A15</td>\n",
       "      <td>0.436836</td>\n",
       "      <td>9.0</td>\n",
       "      <td>2.257690</td>\n",
       "      <td>11.702172</td>\n",
       "      <td>True</td>\n",
       "      <td>False</td>\n",
       "    </tr>\n",
       "    <tr>\n",
       "      <th>3</th>\n",
       "      <td>ABY001_A375_XH_X1_B15:A16</td>\n",
       "      <td>0.089820</td>\n",
       "      <td>8.0</td>\n",
       "      <td>0.961196</td>\n",
       "      <td>2.485945</td>\n",
       "      <td>True</td>\n",
       "      <td>False</td>\n",
       "    </tr>\n",
       "    <tr>\n",
       "      <th>4</th>\n",
       "      <td>ABY001_A375_XH_X1_B15:A17</td>\n",
       "      <td>0.367309</td>\n",
       "      <td>8.0</td>\n",
       "      <td>1.855790</td>\n",
       "      <td>9.666554</td>\n",
       "      <td>True</td>\n",
       "      <td>False</td>\n",
       "    </tr>\n",
       "  </tbody>\n",
       "</table>\n",
       "</div>"
      ],
      "text/plain": [
       "                   sample_id       APC  nrepl        L1         L2  train  \\\n",
       "0  ABY001_A375_XH_X1_B15:A13  0.324414    8.0  1.649418  11.675443   True   \n",
       "1  ABY001_A375_XH_X1_B15:A14  0.189060   10.0  1.265392   4.093121   True   \n",
       "2  ABY001_A375_XH_X1_B15:A15  0.436836    9.0  2.257690  11.702172   True   \n",
       "3  ABY001_A375_XH_X1_B15:A16  0.089820    8.0  0.961196   2.485945   True   \n",
       "4  ABY001_A375_XH_X1_B15:A17  0.367309    8.0  1.855790   9.666554   True   \n",
       "\n",
       "   valid  \n",
       "0  False  \n",
       "1  False  \n",
       "2  False  \n",
       "3  False  \n",
       "4  False  "
      ]
     },
     "execution_count": 6,
     "metadata": {},
     "output_type": "execute_result"
    }
   ],
   "source": [
    "apc = pd.read_csv('../../LINCS_DVRL/data/APC/lvl4_APC.csv')\n",
    "apc = apc.fillna(-666)\n",
    "apc = pd.DataFrame({'sample_id':sample_ids}).merge(apc, on='sample_id', how='left') # order identically to l1000 \n",
    "apc = apc.assign(train=lambda x: x.APC < 0.7)\n",
    "apc = apc.assign(valid=lambda x: x.APC >= 0.7)\n",
    "apc.head()"
   ]
  },
  {
   "cell_type": "code",
   "execution_count": 7,
   "metadata": {},
   "outputs": [],
   "source": [
    "train_idx = (apc.train.values * 1.).nonzero()[0]\n",
    "valid_idx = (apc.valid.values * 1.).nonzero()[0]"
   ]
  },
  {
   "cell_type": "code",
   "execution_count": 8,
   "metadata": {},
   "outputs": [],
   "source": [
    "x_train = l1000[train_idx, :]\n",
    "x_valid = l1000[valid_idx, :]"
   ]
  },
  {
   "cell_type": "code",
   "execution_count": 9,
   "metadata": {},
   "outputs": [
    {
     "name": "stderr",
     "output_type": "stream",
     "text": [
      "/home/teddy/local/DVGS/manuscript_notebooks/../src/AEDataset.py:9: UserWarning: To copy construct from a tensor, it is recommended to use sourceTensor.clone().detach() or sourceTensor.clone().detach().requires_grad_(True), rather than torch.tensor(sourceTensor).\n",
      "  self.x = torch.tensor(x, dtype=torch.float32)\n"
     ]
    }
   ],
   "source": [
    "train_dataset = AEDataset(x_train)\n",
    "valid_dataset = AEDataset(x_valid)"
   ]
  },
  {
   "cell_type": "code",
   "execution_count": 10,
   "metadata": {},
   "outputs": [
    {
     "data": {
      "text/plain": [
       "926659"
      ]
     },
     "execution_count": 10,
     "metadata": {},
     "output_type": "execute_result"
    }
   ],
   "source": [
    "len(train_dataset)"
   ]
  },
  {
   "cell_type": "code",
   "execution_count": 11,
   "metadata": {},
   "outputs": [
    {
     "data": {
      "text/plain": [
       "18604"
      ]
     },
     "execution_count": 11,
     "metadata": {},
     "output_type": "execute_result"
    }
   ],
   "source": [
    "len(valid_dataset)"
   ]
  },
  {
   "cell_type": "code",
   "execution_count": 12,
   "metadata": {},
   "outputs": [
    {
     "name": "stdout",
     "output_type": "stream",
     "text": [
      "using device: cuda\n",
      "epoch: 0 | loss: 4.2006 | metric: 0.1351\r"
     ]
    }
   ],
   "source": [
    "model = AE(in_channels=978, latent_channels=100, norm=True, dropout=0.25, bias=True, act=torch.nn.Mish, num_layers=1)\n",
    "dvgs = DVGS(train_dataset, valid_dataset, test_dataset=None, model=model)\n",
    "dvgs.pretrain_(crit=torch.nn.MSELoss(), num_workers=5, batch_size=512, lr=1e-3, epochs=1, use_cuda=True, verbose=True, report_metric=lambda x,y: r2_score(x,y, multioutput='uniform_average'))"
   ]
  },
  {
   "cell_type": "code",
   "execution_count": 13,
   "metadata": {},
   "outputs": [
    {
     "name": "stdout",
     "output_type": "stream",
     "text": [
      "\"encoder.f.0.weight\",\"encoder.f.0.bias\",\"encoder.f.4.weight\",\"encoder.f.4.bias\",\"encoder.f.5.weight\",\"encoder.f.5.bias\",\"decoder.f.0.weight\",\"decoder.f.0.bias\",\"decoder.f.4.weight\",\"decoder.f.4.bias\",\"decoder.f.5.weight\",\"decoder.f.5.bias\","
     ]
    }
   ],
   "source": [
    "_ = [print(f'\"{n}\",',end='') for n,p in model.named_parameters()]"
   ]
  },
  {
   "cell_type": "code",
   "execution_count": 14,
   "metadata": {},
   "outputs": [
    {
     "name": "stdout",
     "output_type": "stream",
     "text": [
      "using device: cuda\n",
      "epoch 9 || avg loss: 10.82 || grad time elapsed: 109.4 s (0.0487s/batch)\n",
      "time elapsed: 72.97 min\n"
     ]
    }
   ],
   "source": [
    "tic = time.time() \n",
    "vals_dvgs, grad_mag = dvgs.run(crit          = torch.nn.MSELoss(), \n",
    "                                similarity     = similarities.cosine_similarity(), \n",
    "                                optim          = torch.optim.Adam, \n",
    "                                lr             = 1e-3, \n",
    "                                num_epochs     = 10, \n",
    "                                compute_every  = 1, \n",
    "                                batch_size     = 5000, \n",
    "                                num_workers    = 1, \n",
    "                                grad_params    = None, \n",
    "                                verbose        = True, \n",
    "                                use_cuda       = True)\n",
    "print()\n",
    "print(f'time elapsed: {(time.time() - tic)/60:.2f} min')"
   ]
  },
  {
   "cell_type": "code",
   "execution_count": 15,
   "metadata": {},
   "outputs": [
    {
     "data": {
      "text/html": [
       "<div>\n",
       "<style scoped>\n",
       "    .dataframe tbody tr th:only-of-type {\n",
       "        vertical-align: middle;\n",
       "    }\n",
       "\n",
       "    .dataframe tbody tr th {\n",
       "        vertical-align: top;\n",
       "    }\n",
       "\n",
       "    .dataframe thead th {\n",
       "        text-align: right;\n",
       "    }\n",
       "</style>\n",
       "<table border=\"1\" class=\"dataframe\">\n",
       "  <thead>\n",
       "    <tr style=\"text-align: right;\">\n",
       "      <th></th>\n",
       "      <th>sample_id</th>\n",
       "      <th>APC</th>\n",
       "      <th>nrepl</th>\n",
       "      <th>L1</th>\n",
       "      <th>L2</th>\n",
       "      <th>train</th>\n",
       "      <th>valid</th>\n",
       "      <th>vals</th>\n",
       "    </tr>\n",
       "  </thead>\n",
       "  <tbody>\n",
       "    <tr>\n",
       "      <th>0</th>\n",
       "      <td>ABY001_A375_XH_X1_B15:A13</td>\n",
       "      <td>0.324414</td>\n",
       "      <td>8.0</td>\n",
       "      <td>1.649418</td>\n",
       "      <td>11.675443</td>\n",
       "      <td>True</td>\n",
       "      <td>False</td>\n",
       "      <td>0.078600</td>\n",
       "    </tr>\n",
       "    <tr>\n",
       "      <th>1</th>\n",
       "      <td>ABY001_A375_XH_X1_B15:A14</td>\n",
       "      <td>0.189060</td>\n",
       "      <td>10.0</td>\n",
       "      <td>1.265392</td>\n",
       "      <td>4.093121</td>\n",
       "      <td>True</td>\n",
       "      <td>False</td>\n",
       "      <td>0.039052</td>\n",
       "    </tr>\n",
       "    <tr>\n",
       "      <th>2</th>\n",
       "      <td>ABY001_A375_XH_X1_B15:A15</td>\n",
       "      <td>0.436836</td>\n",
       "      <td>9.0</td>\n",
       "      <td>2.257690</td>\n",
       "      <td>11.702172</td>\n",
       "      <td>True</td>\n",
       "      <td>False</td>\n",
       "      <td>0.074245</td>\n",
       "    </tr>\n",
       "    <tr>\n",
       "      <th>3</th>\n",
       "      <td>ABY001_A375_XH_X1_B15:A16</td>\n",
       "      <td>0.089820</td>\n",
       "      <td>8.0</td>\n",
       "      <td>0.961196</td>\n",
       "      <td>2.485945</td>\n",
       "      <td>True</td>\n",
       "      <td>False</td>\n",
       "      <td>0.033769</td>\n",
       "    </tr>\n",
       "    <tr>\n",
       "      <th>4</th>\n",
       "      <td>ABY001_A375_XH_X1_B15:A17</td>\n",
       "      <td>0.367309</td>\n",
       "      <td>8.0</td>\n",
       "      <td>1.855790</td>\n",
       "      <td>9.666554</td>\n",
       "      <td>True</td>\n",
       "      <td>False</td>\n",
       "      <td>0.035008</td>\n",
       "    </tr>\n",
       "  </tbody>\n",
       "</table>\n",
       "</div>"
      ],
      "text/plain": [
       "                   sample_id       APC  nrepl        L1         L2  train  \\\n",
       "0  ABY001_A375_XH_X1_B15:A13  0.324414    8.0  1.649418  11.675443   True   \n",
       "1  ABY001_A375_XH_X1_B15:A14  0.189060   10.0  1.265392   4.093121   True   \n",
       "2  ABY001_A375_XH_X1_B15:A15  0.436836    9.0  2.257690  11.702172   True   \n",
       "3  ABY001_A375_XH_X1_B15:A16  0.089820    8.0  0.961196   2.485945   True   \n",
       "4  ABY001_A375_XH_X1_B15:A17  0.367309    8.0  1.855790   9.666554   True   \n",
       "\n",
       "   valid      vals  \n",
       "0  False  0.078600  \n",
       "1  False  0.039052  \n",
       "2  False  0.074245  \n",
       "3  False  0.033769  \n",
       "4  False  0.035008  "
      ]
     },
     "execution_count": 15,
     "metadata": {},
     "output_type": "execute_result"
    }
   ],
   "source": [
    "apc2 = apc[lambda x: x.train].assign(vals = vals_dvgs.mean(axis=1))\n",
    "apc2.head()"
   ]
  },
  {
   "cell_type": "code",
   "execution_count": 16,
   "metadata": {},
   "outputs": [
    {
     "data": {
      "text/html": [
       "<div>\n",
       "<style scoped>\n",
       "    .dataframe tbody tr th:only-of-type {\n",
       "        vertical-align: middle;\n",
       "    }\n",
       "\n",
       "    .dataframe tbody tr th {\n",
       "        vertical-align: top;\n",
       "    }\n",
       "\n",
       "    .dataframe thead th {\n",
       "        text-align: right;\n",
       "    }\n",
       "</style>\n",
       "<table border=\"1\" class=\"dataframe\">\n",
       "  <thead>\n",
       "    <tr style=\"text-align: right;\">\n",
       "      <th></th>\n",
       "      <th>APC</th>\n",
       "      <th>vals</th>\n",
       "    </tr>\n",
       "  </thead>\n",
       "  <tbody>\n",
       "    <tr>\n",
       "      <th>APC</th>\n",
       "      <td>1.000000</td>\n",
       "      <td>0.508605</td>\n",
       "    </tr>\n",
       "    <tr>\n",
       "      <th>vals</th>\n",
       "      <td>0.508605</td>\n",
       "      <td>1.000000</td>\n",
       "    </tr>\n",
       "  </tbody>\n",
       "</table>\n",
       "</div>"
      ],
      "text/plain": [
       "           APC      vals\n",
       "APC   1.000000  0.508605\n",
       "vals  0.508605  1.000000"
      ]
     },
     "execution_count": 16,
     "metadata": {},
     "output_type": "execute_result"
    }
   ],
   "source": [
    "apc2[lambda x: x.APC != -666][['APC','vals']].corr('pearson')"
   ]
  },
  {
   "cell_type": "code",
   "execution_count": 17,
   "metadata": {},
   "outputs": [
    {
     "data": {
      "text/html": [
       "<div>\n",
       "<style scoped>\n",
       "    .dataframe tbody tr th:only-of-type {\n",
       "        vertical-align: middle;\n",
       "    }\n",
       "\n",
       "    .dataframe tbody tr th {\n",
       "        vertical-align: top;\n",
       "    }\n",
       "\n",
       "    .dataframe thead th {\n",
       "        text-align: right;\n",
       "    }\n",
       "</style>\n",
       "<table border=\"1\" class=\"dataframe\">\n",
       "  <thead>\n",
       "    <tr style=\"text-align: right;\">\n",
       "      <th></th>\n",
       "      <th>APC</th>\n",
       "      <th>vals</th>\n",
       "    </tr>\n",
       "  </thead>\n",
       "  <tbody>\n",
       "    <tr>\n",
       "      <th>APC</th>\n",
       "      <td>1.000000</td>\n",
       "      <td>0.178331</td>\n",
       "    </tr>\n",
       "    <tr>\n",
       "      <th>vals</th>\n",
       "      <td>0.178331</td>\n",
       "      <td>1.000000</td>\n",
       "    </tr>\n",
       "  </tbody>\n",
       "</table>\n",
       "</div>"
      ],
      "text/plain": [
       "           APC      vals\n",
       "APC   1.000000  0.178331\n",
       "vals  0.178331  1.000000"
      ]
     },
     "execution_count": 17,
     "metadata": {},
     "output_type": "execute_result"
    }
   ],
   "source": [
    "apc2[lambda x: x.APC != -666][['APC','vals']].corr('spearman')"
   ]
  },
  {
   "cell_type": "code",
   "execution_count": 18,
   "metadata": {},
   "outputs": [
    {
     "data": {
      "image/png": "[encoded data removed]",
      "text/plain": [
       "<Figure size 640x480 with 1 Axes>"
      ]
     },
     "metadata": {},
     "output_type": "display_data"
    }
   ],
   "source": [
    "plt.figure()\n",
    "plt.plot(apc2[lambda x: x.APC != -666].APC.values, apc2[lambda x: x.APC != -666].vals.values, 'k.', alpha=0.1)\n",
    "plt.xlabel('APC')\n",
    "plt.ylabel('data values')\n",
    "plt.show()"
   ]
  },
  {
   "cell_type": "code",
   "execution_count": 27,
   "metadata": {},
   "outputs": [
    {
     "data": {
      "text/html": [
       "<div>\n",
       "<style scoped>\n",
       "    .dataframe tbody tr th:only-of-type {\n",
       "        vertical-align: middle;\n",
       "    }\n",
       "\n",
       "    .dataframe tbody tr th {\n",
       "        vertical-align: top;\n",
       "    }\n",
       "\n",
       "    .dataframe thead th {\n",
       "        text-align: right;\n",
       "    }\n",
       "</style>\n",
       "<table border=\"1\" class=\"dataframe\">\n",
       "  <thead>\n",
       "    <tr style=\"text-align: right;\">\n",
       "      <th></th>\n",
       "      <th>sample_id</th>\n",
       "      <th>APC</th>\n",
       "      <th>nrepl</th>\n",
       "      <th>L1</th>\n",
       "      <th>L2</th>\n",
       "      <th>train</th>\n",
       "      <th>valid</th>\n",
       "      <th>vals</th>\n",
       "    </tr>\n",
       "  </thead>\n",
       "  <tbody>\n",
       "    <tr>\n",
       "      <th>0</th>\n",
       "      <td>ABY001_A375_XH_X1_B15:A13</td>\n",
       "      <td>0.324414</td>\n",
       "      <td>8.0</td>\n",
       "      <td>1.649418</td>\n",
       "      <td>11.675443</td>\n",
       "      <td>True</td>\n",
       "      <td>False</td>\n",
       "      <td>0.095473</td>\n",
       "    </tr>\n",
       "    <tr>\n",
       "      <th>1</th>\n",
       "      <td>ABY001_A375_XH_X1_B15:A14</td>\n",
       "      <td>0.189060</td>\n",
       "      <td>10.0</td>\n",
       "      <td>1.265392</td>\n",
       "      <td>4.093121</td>\n",
       "      <td>True</td>\n",
       "      <td>False</td>\n",
       "      <td>0.080264</td>\n",
       "    </tr>\n",
       "    <tr>\n",
       "      <th>2</th>\n",
       "      <td>ABY001_A375_XH_X1_B15:A15</td>\n",
       "      <td>0.436836</td>\n",
       "      <td>9.0</td>\n",
       "      <td>2.257690</td>\n",
       "      <td>11.702172</td>\n",
       "      <td>True</td>\n",
       "      <td>False</td>\n",
       "      <td>0.089090</td>\n",
       "    </tr>\n",
       "    <tr>\n",
       "      <th>3</th>\n",
       "      <td>ABY001_A375_XH_X1_B15:A16</td>\n",
       "      <td>0.089820</td>\n",
       "      <td>8.0</td>\n",
       "      <td>0.961196</td>\n",
       "      <td>2.485945</td>\n",
       "      <td>True</td>\n",
       "      <td>False</td>\n",
       "      <td>0.056643</td>\n",
       "    </tr>\n",
       "    <tr>\n",
       "      <th>4</th>\n",
       "      <td>ABY001_A375_XH_X1_B15:A17</td>\n",
       "      <td>0.367309</td>\n",
       "      <td>8.0</td>\n",
       "      <td>1.855790</td>\n",
       "      <td>9.666554</td>\n",
       "      <td>True</td>\n",
       "      <td>False</td>\n",
       "      <td>0.046387</td>\n",
       "    </tr>\n",
       "  </tbody>\n",
       "</table>\n",
       "</div>"
      ],
      "text/plain": [
       "                   sample_id       APC  nrepl        L1         L2  train  \\\n",
       "0  ABY001_A375_XH_X1_B15:A13  0.324414    8.0  1.649418  11.675443   True   \n",
       "1  ABY001_A375_XH_X1_B15:A14  0.189060   10.0  1.265392   4.093121   True   \n",
       "2  ABY001_A375_XH_X1_B15:A15  0.436836    9.0  2.257690  11.702172   True   \n",
       "3  ABY001_A375_XH_X1_B15:A16  0.089820    8.0  0.961196   2.485945   True   \n",
       "4  ABY001_A375_XH_X1_B15:A17  0.367309    8.0  1.855790   9.666554   True   \n",
       "\n",
       "   valid      vals  \n",
       "0  False  0.095473  \n",
       "1  False  0.080264  \n",
       "2  False  0.089090  \n",
       "3  False  0.056643  \n",
       "4  False  0.046387  "
      ]
     },
     "execution_count": 27,
     "metadata": {},
     "output_type": "execute_result"
    }
   ],
   "source": [
    "apc2.head()"
   ]
  },
  {
   "cell_type": "code",
   "execution_count": 29,
   "metadata": {},
   "outputs": [],
   "source": [
    "top80_idx = (apc2.vals >= apc2.vals.quantile(0.2)).values.nonzero()[0]"
   ]
  },
  {
   "cell_type": "code",
   "execution_count": 31,
   "metadata": {},
   "outputs": [
    {
     "ename": "",
     "evalue": "",
     "output_type": "error",
     "traceback": [
      "\u001b[1;31mCanceled future for execute_request message before replies were done"
     ]
    },
    {
     "ename": "",
     "evalue": "",
     "output_type": "error",
     "traceback": [
      "\u001b[1;31mThe Kernel crashed while executing code in the the current cell or a previous cell. Please review the code in the cell(s) to identify a possible cause of the failure. Click <a href='https://aka.ms/vscodeJupyterKernelCrash'>here</a> for more info. View Jupyter <a href='command:jupyter.viewOutput'>log</a> for further details."
     ]
    }
   ],
   "source": [
    "top80_train = l1000[train_idx, :][top80_idx, :]"
   ]
  },
  {
   "cell_type": "code",
   "execution_count": null,
   "metadata": {},
   "outputs": [
    {
     "name": "stderr",
     "output_type": "stream",
     "text": [
      "/home/teddy/local/DVGS/manuscript_notebooks/../src/AEDataset.py:9: UserWarning: To copy construct from a tensor, it is recommended to use sourceTensor.clone().detach() or sourceTensor.clone().detach().requires_grad_(True), rather than torch.tensor(sourceTensor).\n",
      "  self.x = torch.tensor(x, dtype=torch.float32)\n"
     ]
    }
   ],
   "source": [
    "top80_train_dataset = AEDataset(top80_train)"
   ]
  },
  {
   "cell_type": "code",
   "execution_count": null,
   "metadata": {},
   "outputs": [
    {
     "name": "stdout",
     "output_type": "stream",
     "text": [
      "using device: cuda\n",
      "\n",
      "epoch: 0 | loss: 4.4388 | metric: 0.1074\n",
      "epoch: 1 | loss: 4.4395 | metric: 0.1069\n",
      "epoch: 2 | loss: 4.4401 | metric: 0.1068\r"
     ]
    }
   ],
   "source": [
    "model2 = AE(in_channels=978, latent_channels=100, norm=True, dropout=0.25, bias=True, act=torch.nn.Mish, num_layers=1)\n",
    "dvgs2 = DVGS(top80_train_dataset, valid_dataset=None, test_dataset=None, model=model)\n",
    "dvgs2.pretrain_(crit=torch.nn.MSELoss(), num_workers=5, batch_size=512, lr=1e-3, epochs=3, use_cuda=True, verbose=True, report_metric=lambda x,y: r2_score(x,y, multioutput='uniform_average'))"
   ]
  },
  {
   "cell_type": "code",
   "execution_count": null,
   "metadata": {},
   "outputs": [],
   "source": []
  }
 ],
 "metadata": {
  "kernelspec": {
   "display_name": "Python 3.9.15 ('dvgs')",
   "language": "python",
   "name": "python3"
  },
  "language_info": {
   "codemirror_mode": {
    "name": "ipython",
    "version": 3
   },
   "file_extension": ".py",
   "mimetype": "text/x-python",
   "name": "python",
   "nbconvert_exporter": "python",
   "pygments_lexer": "ipython3",
   "version": "3.9.15"
  },
  "orig_nbformat": 4,
  "vscode": {
   "interpreter": {
    "hash": "7a0c01d8e4fa1db1da0660ba3ef0ec4ab134f84670460ef20ad46a30fcd2cd9f"
   }
  }
 },
 "nbformat": 4,
 "nbformat_minor": 2
}
